{
 "cells": [
  {
   "cell_type": "markdown",
   "metadata": {},
   "source": [
    "# Preprocessing the data"
   ]
  },
  {
   "cell_type": "code",
   "execution_count": 1,
   "metadata": {
    "collapsed": false
   },
   "outputs": [
    {
     "name": "stderr",
     "output_type": "stream",
     "text": [
      "/home/schanx/anaconda3/lib/python3.5/site-packages/pysal/__init__.py:65: VisibleDeprecationWarning: PySAL's API will be changed on 2018-12-31. The last release made with this API is version 1.14.4. A preview of the next API version is provided in the `pysal` 2.0 prelease candidate. The API changes and a guide on how to change imports is provided at https://pysal.org/about\n",
      "  ), VisibleDeprecationWarning)\n"
     ]
    }
   ],
   "source": [
    "%matplotlib inline\n",
    "\n",
    "import seaborn as sns\n",
    "import pandas as pd\n",
    "import pysal as ps\n",
    "import geopandas as gpd\n",
    "import numpy as np\n",
    "import matplotlib.pyplot as plt\n",
    "from sklearn import cluster\n",
    "#import pysal.contrib.clusterpy as cp\n",
    "\n",
    "from scipy import stats\n",
    "from sklearn.mixture import GaussianMixture"
   ]
  },
  {
   "cell_type": "code",
   "execution_count": 2,
   "metadata": {
    "collapsed": false,
    "scrolled": true
   },
   "outputs": [
    {
     "name": "stdout",
     "output_type": "stream",
     "text": [
      "<class 'geopandas.geodataframe.GeoDataFrame'>\n",
      "RangeIndex: 2059 entries, 0 to 2058\n",
      "Data columns (total 85 columns):\n",
      "review_scores_accuracy            1589 non-null float64\n",
      "reviews_per_month                 1622 non-null float64\n",
      "bathrooms                         2055 non-null float64\n",
      "features                          2059 non-null object\n",
      "listing_url                       2059 non-null object\n",
      "transit                           1347 non-null object\n",
      "room_type                         2059 non-null object\n",
      "calendar_last_scraped             2059 non-null object\n",
      "neighbourhood_cleansed            2059 non-null object\n",
      "host_neighbourhood                1909 non-null object\n",
      "street                            2059 non-null object\n",
      "review_scores_communication       1589 non-null float64\n",
      "longitude                         2059 non-null object\n",
      "country_code                      2059 non-null object\n",
      "review_scores_cleanliness         1589 non-null float64\n",
      "neighborhood_overview             1305 non-null object\n",
      "availability_365                  2059 non-null int64\n",
      "id                                2059 non-null object\n",
      "neighbourhood                     1809 non-null object\n",
      "first_review                      1622 non-null object\n",
      "city                              2059 non-null object\n",
      "property_type                     2057 non-null object\n",
      "space                             1535 non-null object\n",
      "availability_60                   2059 non-null int64\n",
      "picture_url                       2059 non-null object\n",
      "zipcode                           2046 non-null object\n",
      "host_response_rate                1812 non-null float64\n",
      "host_since                        2059 non-null object\n",
      "access                            1132 non-null object\n",
      "availability_90                   2059 non-null int64\n",
      "state                             2059 non-null object\n",
      "amenities                         2048 non-null object\n",
      "market                            2051 non-null object\n",
      "maximum_nights                    2059 non-null int64\n",
      "cancellation_policy               2059 non-null object\n",
      "latitude                          2059 non-null object\n",
      "review_scores_checkin             1589 non-null float64\n",
      "review_scores_location            1587 non-null float64\n",
      "host_url                          2059 non-null object\n",
      "host_listings_count               2059 non-null int64\n",
      "host_picture_url                  2059 non-null object\n",
      "description                       2059 non-null object\n",
      "experiences_offered               2059 non-null object\n",
      "price                             2051 non-null float64\n",
      "bedrooms                          2049 non-null float64\n",
      "extra_people                      2059 non-null int64\n",
      "smart_location                    2059 non-null object\n",
      "host_verifications                2058 non-null object\n",
      "number_of_reviews                 2059 non-null int64\n",
      "xl_picture_url                    1562 non-null object\n",
      "host_about                        1303 non-null object\n",
      "scrape_id                         2059 non-null object\n",
      "last_review                       1622 non-null object\n",
      "host_id                           2059 non-null object\n",
      "availability_30                   2059 non-null int64\n",
      "review_scores_rating              1592 non-null float64\n",
      "review_scores_value               1589 non-null float64\n",
      "calculated_host_listings_count    2059 non-null int64\n",
      "interaction                       1130 non-null object\n",
      "name                              2059 non-null object\n",
      "medium_url                        1562 non-null object\n",
      "bed_type                          2059 non-null object\n",
      "country                           2059 non-null object\n",
      "host_response_time                1812 non-null object\n",
      "host_location                     2055 non-null object\n",
      "calendar_updated                  2059 non-null object\n",
      "summary                           1962 non-null object\n",
      "beds                              2058 non-null float64\n",
      "minimum_nights                    2059 non-null int64\n",
      "thumbnail_url                     1562 non-null object\n",
      "cleaning_fee                      1600 non-null float64\n",
      "last_scraped                      2059 non-null object\n",
      "house_rules                       1382 non-null object\n",
      "guests_included                   2059 non-null int64\n",
      "host_total_listings_count         2059 non-null int64\n",
      "host_thumbnail_url                2059 non-null object\n",
      "host_name                         2059 non-null object\n",
      "accommodates                      2059 non-null int64\n",
      "host_acceptance_rate              1812 non-null object\n",
      "monthly_price                     489 non-null float64\n",
      "notes                             930 non-null object\n",
      "security_deposit                  793 non-null float64\n",
      "square_feet                       37 non-null float64\n",
      "weekly_price                      143 non-null float64\n",
      "geometry                          2059 non-null object\n",
      "dtypes: float64(18), int64(13), object(54)\n",
      "memory usage: 1.3+ MB\n"
     ]
    }
   ],
   "source": [
    "# Read GeoJSON file\n",
    "abb = gpd.read_file('airbnb-listings.geojson')\n",
    "\n",
    "\n",
    "abb.crs = {'init': u'epsg:27700'}\n",
    "abb.info()\n"
   ]
  },
  {
   "cell_type": "code",
   "execution_count": null,
   "metadata": {
    "collapsed": true
   },
   "outputs": [],
   "source": []
  },
  {
   "cell_type": "code",
   "execution_count": 3,
   "metadata": {
    "collapsed": true
   },
   "outputs": [],
   "source": [
    "abb_original = gpd.read_file('airbnb-listings.geojson')\n",
    "abb_original.crs = {'init': u'epsg:27700'}"
   ]
  },
  {
   "cell_type": "code",
   "execution_count": 4,
   "metadata": {
    "collapsed": false
   },
   "outputs": [
    {
     "data": {
      "text/plain": [
       "<matplotlib.axes._subplots.AxesSubplot at 0x7f5e17355748>"
      ]
     },
     "execution_count": 4,
     "metadata": {},
     "output_type": "execute_result"
    },
    {
     "data": {
      "image/png": "[encoded data removed]",
      "text/plain": [
       "<Figure size 432x288 with 1 Axes>"
      ]
     },
     "metadata": {},
     "output_type": "display_data"
    }
   ],
   "source": [
    "abb_original['review_scores_checkin'].hist(bins=20)"
   ]
  },
  {
   "cell_type": "code",
   "execution_count": 5,
   "metadata": {
    "collapsed": true
   },
   "outputs": [],
   "source": [
    "ratings = ['review_scores_rating', 'review_scores_accuracy', 'review_scores_cleanliness', \\\n",
    "     'review_scores_checkin', 'review_scores_communication', 'review_scores_location', \\\n",
    "     'review_scores_value']"
   ]
  },
  {
   "cell_type": "code",
   "execution_count": 6,
   "metadata": {
    "collapsed": false
   },
   "outputs": [],
   "source": [
    "# feature selection\n",
    "import json\n",
    "with open('features/features.json') as f:\n",
    "    features = json.load(f)\n",
    "    #print(features['continuous_features'])\n",
    "    \n",
    "for i in features['continuous_features']:\n",
    "    i=i.lower()\n",
    "    #i=i.replace(\" \",\"_\")\n",
    "    \n",
    "\n",
    "contf=[(lambda x: x.lower().replace(\" \",\"_\"))(x) for x in features['continuous_features']]\n",
    "contf.remove('host_total_listings_count')\n",
    "contf.remove('host_acceptance_rate')\n",
    "\n",
    "cat_features=['host_response_time','property_type','room_type','bed_type','host_verifications','amenities']\n",
    "geo_features=[\"latitude\",\"longitude\",\"geometry\"]\n",
    "get_features=contf+cat_features+ratings+geo_features\n",
    "\n",
    "\n",
    "# s = set()\n",
    "# s=set(abb.columns.tolist())\n",
    "# s=set(get_features).difference(s)\n",
    "# get_features=[x for x in get_features if x not in list(s)]\n",
    "# contf=[x for x in contf if x not in list(s)]\n",
    "\n",
    "abb = abb[get_features]"
   ]
  },
  {
   "cell_type": "code",
   "execution_count": 7,
   "metadata": {
    "collapsed": false
   },
   "outputs": [
    {
     "data": {
      "text/plain": [
       "35"
      ]
     },
     "execution_count": 7,
     "metadata": {},
     "output_type": "execute_result"
    }
   ],
   "source": [
    "len(get_features)"
   ]
  },
  {
   "cell_type": "code",
   "execution_count": 8,
   "metadata": {
    "collapsed": false
   },
   "outputs": [],
   "source": [
    "for i in ratings:\n",
    "    abb[i]=abb[i].fillna(abb[i].median(skipna=True))"
   ]
  },
  {
   "cell_type": "code",
   "execution_count": 9,
   "metadata": {
    "collapsed": true
   },
   "outputs": [],
   "source": [
    "# 1st\n",
    "\n",
    "# mapping of string based temporal data to numeric values\n",
    "map=dict({'a':1,'day':1,'week':7,'month':30,'year':365,'yesterday':1,'today':0,'never':4000})\n",
    "\n",
    "# calendar update\n",
    "max_val=0\n",
    "def get_days(data):\n",
    "    if len(data)==1:\n",
    "        return map.get(data[0])\n",
    "    else:\n",
    "        data[1]=data[1][:-1] if data[1][-1]=='s' else data[1]\n",
    "        return map.get(data[0])*map.get(data[1]) if data[0] in map else int(data[0])*map.get(data[1]) # else int(data[0])*map.get(data[1]))\n",
    "    \n",
    "abb['calendar_updated']=abb['calendar_updated'].apply(lambda x: get_days(x.split()))\n",
    "\n",
    "#abb.groupby(['Calendar Updated']).count()"
   ]
  },
  {
   "cell_type": "code",
   "execution_count": 10,
   "metadata": {
    "collapsed": false
   },
   "outputs": [],
   "source": [
    "# 2nd fill nans\n",
    "for i in contf:\n",
    "    abb[i]=abb[i].fillna(abb[i].median(skipna=True))"
   ]
  },
  {
   "cell_type": "code",
   "execution_count": 11,
   "metadata": {
    "collapsed": false,
    "scrolled": true
   },
   "outputs": [
    {
     "name": "stdout",
     "output_type": "stream",
     "text": [
      "0       6.803505\n",
      "1       6.803505\n",
      "2       6.803505\n",
      "3       6.803505\n",
      "4       6.803505\n",
      "5       6.803505\n",
      "6       6.803505\n",
      "7       6.803505\n",
      "8       6.803505\n",
      "9       6.803505\n",
      "10      6.803505\n",
      "11      6.803505\n",
      "12      6.803505\n",
      "13      6.803505\n",
      "14      6.803505\n",
      "15      6.803505\n",
      "16      6.803505\n",
      "17      6.803505\n",
      "18      6.803505\n",
      "19      6.803505\n",
      "20      6.803505\n",
      "21      6.803505\n",
      "22      6.803505\n",
      "23      6.803505\n",
      "24      6.803505\n",
      "25      6.803505\n",
      "26      6.803505\n",
      "27      6.803505\n",
      "28      6.803505\n",
      "29      6.803505\n",
      "          ...   \n",
      "2029    6.803505\n",
      "2030    6.803505\n",
      "2031    6.803505\n",
      "2032    7.090910\n",
      "2033    7.090910\n",
      "2034    6.803505\n",
      "2035    6.803505\n",
      "2036    6.803505\n",
      "2037    6.803505\n",
      "2038    6.803505\n",
      "2039    6.803505\n",
      "2040    6.803505\n",
      "2041    6.803505\n",
      "2042    6.803505\n",
      "2043    6.803505\n",
      "2044    6.803505\n",
      "2045    6.803505\n",
      "2046    6.803505\n",
      "2047    6.803505\n",
      "2048    6.803505\n",
      "2049    6.803505\n",
      "2050    6.803505\n",
      "2051    6.803505\n",
      "2052    6.803505\n",
      "2053    6.803505\n",
      "2054    6.803505\n",
      "2055    6.803505\n",
      "2056    6.803505\n",
      "2057    6.803505\n",
      "2058    6.803505\n",
      "Name: square_feet, dtype: float64\n",
      "0       4.836282\n",
      "1       4.330733\n",
      "2       5.303305\n",
      "3       5.049856\n",
      "4       5.062595\n",
      "5       5.521461\n",
      "6       5.755742\n",
      "7       4.976734\n",
      "8       5.017280\n",
      "9       5.398163\n",
      "10      5.062595\n",
      "11      4.682131\n",
      "12      5.170484\n",
      "13      5.398163\n",
      "14      4.997212\n",
      "15      5.583496\n",
      "16      5.707110\n",
      "17      4.912655\n",
      "18      4.564348\n",
      "19      4.983607\n",
      "20      5.081404\n",
      "21      5.303305\n",
      "22      5.420535\n",
      "23      5.303305\n",
      "24      3.828641\n",
      "25      4.948760\n",
      "26      6.478510\n",
      "27      5.525453\n",
      "28      5.351858\n",
      "29      5.634790\n",
      "          ...   \n",
      "2029    5.525453\n",
      "2030    5.010635\n",
      "2031    4.941642\n",
      "2032    4.844187\n",
      "2033    4.836282\n",
      "2034    4.499810\n",
      "2035    5.525453\n",
      "2036    5.298317\n",
      "2037    4.867534\n",
      "2038    5.690359\n",
      "2039    5.993961\n",
      "2040    5.303305\n",
      "2041    5.525453\n",
      "2042    4.997212\n",
      "2043    5.170484\n",
      "2044    4.189655\n",
      "2045    5.278115\n",
      "2046    5.010635\n",
      "2047    5.755742\n",
      "2048    5.768321\n",
      "2049    5.438079\n",
      "2050    4.663439\n",
      "2051    5.857933\n",
      "2052    5.247024\n",
      "2053    5.337538\n",
      "2054    5.170484\n",
      "2055    5.786897\n",
      "2056    4.753590\n",
      "2057    4.262680\n",
      "2058    4.564348\n",
      "Name: price, dtype: float64\n",
      "0       6.685861\n",
      "1       6.685861\n",
      "2       6.685861\n",
      "3       6.685861\n",
      "4       6.685861\n",
      "5       6.685861\n",
      "6       6.685861\n",
      "7       6.685861\n",
      "8       6.685861\n",
      "9       6.685861\n",
      "10      6.685861\n",
      "11      6.685861\n",
      "12      6.685861\n",
      "13      6.685861\n",
      "14      6.685861\n",
      "15      6.685861\n",
      "16      6.685861\n",
      "17      6.685861\n",
      "18      6.685861\n",
      "19      6.685861\n",
      "20      6.685861\n",
      "21      6.685861\n",
      "22      6.685861\n",
      "23      6.685861\n",
      "24      6.685861\n",
      "25      6.685861\n",
      "26      6.685861\n",
      "27      6.685861\n",
      "28      6.685861\n",
      "29      6.685861\n",
      "          ...   \n",
      "2029    6.685861\n",
      "2030    6.685861\n",
      "2031    6.685861\n",
      "2032    6.685861\n",
      "2033    6.685861\n",
      "2034    6.356108\n",
      "2035    6.685861\n",
      "2036    6.685861\n",
      "2037    6.685861\n",
      "2038    6.685861\n",
      "2039    6.685861\n",
      "2040    6.685861\n",
      "2041    6.685861\n",
      "2042    6.685861\n",
      "2043    6.685861\n",
      "2044    6.685861\n",
      "2045    6.685861\n",
      "2046    6.685861\n",
      "2047    6.685861\n",
      "2048    6.685861\n",
      "2049    6.685861\n",
      "2050    6.685861\n",
      "2051    6.685861\n",
      "2052    6.685861\n",
      "2053    6.685861\n",
      "2054    6.685861\n",
      "2055    6.685861\n",
      "2056    6.685861\n",
      "2057    6.216606\n",
      "2058    6.685861\n",
      "Name: weekly_price, dtype: float64\n",
      "0       8.412055\n",
      "1       7.090910\n",
      "2       8.412055\n",
      "3       8.412055\n",
      "4       8.412055\n",
      "5       8.412055\n",
      "6       8.412055\n",
      "7       8.412055\n",
      "8       8.412055\n",
      "9       8.412055\n",
      "10      8.410721\n",
      "11      8.412055\n",
      "12      8.412055\n",
      "13      8.412055\n",
      "14      8.412055\n",
      "15      8.366603\n",
      "16      8.412055\n",
      "17      8.412055\n",
      "18      7.550135\n",
      "19      8.131825\n",
      "20      8.412055\n",
      "21      8.412055\n",
      "22      8.412055\n",
      "23      8.412055\n",
      "24      8.412055\n",
      "25      8.412055\n",
      "26      8.412055\n",
      "27      8.412055\n",
      "28      8.517393\n",
      "29      8.412055\n",
      "          ...   \n",
      "2029    8.412055\n",
      "2030    8.412055\n",
      "2031    8.412055\n",
      "2032    8.160804\n",
      "2033    8.071219\n",
      "2034    8.412055\n",
      "2035    8.771990\n",
      "2036    8.412055\n",
      "2037    8.412055\n",
      "2038    8.412055\n",
      "2039    8.412055\n",
      "2040    8.188967\n",
      "2041    8.412055\n",
      "2042    8.412055\n",
      "2043    8.412055\n",
      "2044    8.412055\n",
      "2045    8.412055\n",
      "2046    8.412055\n",
      "2047    8.412055\n",
      "2048    8.412055\n",
      "2049    8.412055\n",
      "2050    8.412055\n",
      "2051    8.412055\n",
      "2052    8.412055\n",
      "2053    8.412055\n",
      "2054    8.318986\n",
      "2055    8.412055\n",
      "2056    8.412055\n",
      "2057    8.412055\n",
      "2058    8.412055\n",
      "Name: monthly_price, dtype: float64\n",
      "0       5.707110\n",
      "1       5.707110\n",
      "2       5.707110\n",
      "3       5.707110\n",
      "4       5.707110\n",
      "5       5.707110\n",
      "6       5.707110\n",
      "7       4.615121\n",
      "8       5.707110\n",
      "9       5.017280\n",
      "10      4.615121\n",
      "11      4.615121\n",
      "12      5.993961\n",
      "13      4.564348\n",
      "14      4.997212\n",
      "15      5.707110\n",
      "16      5.707110\n",
      "17      5.707110\n",
      "18      5.707110\n",
      "19      5.525453\n",
      "20      5.707110\n",
      "21      5.707110\n",
      "22      5.707110\n",
      "23      5.707110\n",
      "24      5.707110\n",
      "25      5.707110\n",
      "26      5.707110\n",
      "27      5.707110\n",
      "28      5.929589\n",
      "29      5.707110\n",
      "          ...   \n",
      "2029    5.707110\n",
      "2030    5.707110\n",
      "2031    5.993961\n",
      "2032    6.216606\n",
      "2033    6.216606\n",
      "2034    4.615121\n",
      "2035    5.707110\n",
      "2036    5.707110\n",
      "2037    5.707110\n",
      "2038    5.707110\n",
      "2039    5.525453\n",
      "2040    6.216606\n",
      "2041    5.525453\n",
      "2042    5.303305\n",
      "2043    5.707110\n",
      "2044    5.707110\n",
      "2045    5.707110\n",
      "2046    5.707110\n",
      "2047    5.707110\n",
      "2048    5.707110\n",
      "2049    5.707110\n",
      "2050    4.605170\n",
      "2051    5.707110\n",
      "2052    6.216606\n",
      "2053    4.605170\n",
      "2054    5.707110\n",
      "2055    6.685861\n",
      "2056    5.993961\n",
      "2057    5.707110\n",
      "2058    5.707110\n",
      "Name: security_deposit, dtype: float64\n",
      "0       2.772589\n",
      "1       3.258097\n",
      "2       4.394449\n",
      "3       4.394449\n",
      "4       5.420535\n",
      "5       4.394449\n",
      "6       4.394449\n",
      "7       3.713572\n",
      "8       4.394449\n",
      "9       4.262680\n",
      "10      4.394449\n",
      "11      3.931826\n",
      "12      4.189655\n",
      "13      3.713572\n",
      "14      3.637586\n",
      "15      4.110874\n",
      "16      4.912655\n",
      "17      3.931826\n",
      "18      4.394449\n",
      "19      3.713572\n",
      "20      3.433987\n",
      "21      4.394449\n",
      "22      4.564348\n",
      "23      3.931826\n",
      "24      4.394449\n",
      "25      4.394449\n",
      "26      5.303305\n",
      "27      4.615121\n",
      "28      3.931826\n",
      "29      4.007333\n",
      "          ...   \n",
      "2029    5.017280\n",
      "2030    3.688879\n",
      "2031    4.564348\n",
      "2032    5.170484\n",
      "2033    5.170484\n",
      "2034    3.931826\n",
      "2035    3.583519\n",
      "2036    4.615121\n",
      "2037    3.931826\n",
      "2038    3.931826\n",
      "2039    4.330733\n",
      "2040    4.262680\n",
      "2041    4.564348\n",
      "2042    3.433987\n",
      "2043    3.713572\n",
      "2044    1.791759\n",
      "2045    4.394449\n",
      "2046    4.094345\n",
      "2047    4.330733\n",
      "2048    4.615121\n",
      "2049    4.394449\n",
      "2050    4.025352\n",
      "2051    5.017280\n",
      "2052    5.017280\n",
      "2053    3.931826\n",
      "2054    4.330733\n",
      "2055    4.394449\n",
      "2056    3.931826\n",
      "2057    4.330733\n",
      "2058    2.397895\n",
      "Name: cleaning_fee, dtype: float64\n",
      "0       2.079442\n",
      "1       1.386294\n",
      "2       2.708050\n",
      "3       0.000000\n",
      "4       2.079442\n",
      "5       0.000000\n",
      "6       2.079442\n",
      "7       1.386294\n",
      "8       4.795791\n",
      "9       2.079442\n",
      "10      1.609438\n",
      "11      0.693147\n",
      "12      2.079442\n",
      "13      3.583519\n",
      "14      0.000000\n",
      "15      3.091042\n",
      "16      2.079442\n",
      "17      0.693147\n",
      "18      4.110874\n",
      "19      2.079442\n",
      "20      0.000000\n",
      "21      5.968708\n",
      "22      2.079442\n",
      "23      5.484797\n",
      "24      5.017280\n",
      "25      2.708050\n",
      "26      0.000000\n",
      "27      2.079442\n",
      "28      0.000000\n",
      "29      3.091042\n",
      "          ...   \n",
      "2029    2.079442\n",
      "2030    2.079442\n",
      "2031    0.000000\n",
      "2032    1.791759\n",
      "2033    0.000000\n",
      "2034    1.386294\n",
      "2035    2.079442\n",
      "2036    0.000000\n",
      "2037    2.708050\n",
      "2038    1.386294\n",
      "2039    5.802118\n",
      "2040    5.484797\n",
      "2041    0.000000\n",
      "2042    0.000000\n",
      "2043    2.079442\n",
      "2044    3.367296\n",
      "2045    5.198497\n",
      "2046    2.079442\n",
      "2047    0.693147\n",
      "2048    0.000000\n",
      "2049    3.091042\n",
      "2050    2.079442\n",
      "2051    3.583519\n",
      "2052    2.079442\n",
      "2053    1.791759\n",
      "2054    1.609438\n",
      "2055    1.791759\n",
      "2056    4.510860\n",
      "2057    1.791759\n",
      "2058    4.110874\n",
      "Name: calendar_updated, dtype: float64\n",
      "0       1.386294\n",
      "1       1.098612\n",
      "2       1.609438\n",
      "3       1.609438\n",
      "4       1.098612\n",
      "5       1.386294\n",
      "6       1.609438\n",
      "7       1.791759\n",
      "8       1.386294\n",
      "9       1.609438\n",
      "10      1.098612\n",
      "11      1.609438\n",
      "12      1.098612\n",
      "13      1.386294\n",
      "14      1.098612\n",
      "15      2.079442\n",
      "16      1.945910\n",
      "17      1.609438\n",
      "18      1.609438\n",
      "19      1.386294\n",
      "20      1.386294\n",
      "21      1.098612\n",
      "22      1.098612\n",
      "23      1.609438\n",
      "24      1.945910\n",
      "25      1.609438\n",
      "26      2.079442\n",
      "27      1.609438\n",
      "28      1.386294\n",
      "29      1.609438\n",
      "          ...   \n",
      "2029    1.945910\n",
      "2030    1.609438\n",
      "2031    1.609438\n",
      "2032    1.945910\n",
      "2033    1.791759\n",
      "2034    1.609438\n",
      "2035    1.098612\n",
      "2036    1.791759\n",
      "2037    1.609438\n",
      "2038    1.098612\n",
      "2039    1.609438\n",
      "2040    1.609438\n",
      "2041    1.609438\n",
      "2042    1.386294\n",
      "2043    1.098612\n",
      "2044    1.098612\n",
      "2045    1.609438\n",
      "2046    1.098612\n",
      "2047    1.945910\n",
      "2048    1.791759\n",
      "2049    1.609438\n",
      "2050    2.079442\n",
      "2051    1.098612\n",
      "2052    1.098612\n",
      "2053    1.945910\n",
      "2054    1.386294\n",
      "2055    1.098612\n",
      "2056    1.098612\n",
      "2057    1.098612\n",
      "2058    1.609438\n",
      "Name: accommodates, dtype: float64\n",
      "0       0.693147\n",
      "1       0.693147\n",
      "2       0.693147\n",
      "3       0.693147\n",
      "4       0.693147\n",
      "5       0.693147\n",
      "6       1.098612\n",
      "7       0.693147\n",
      "8       0.693147\n",
      "9       0.693147\n",
      "10      0.693147\n",
      "11      0.693147\n",
      "12      0.693147\n",
      "13      0.693147\n",
      "14      0.693147\n",
      "15      0.693147\n",
      "16      0.693147\n",
      "17      0.693147\n",
      "18      0.693147\n",
      "19      0.693147\n",
      "20      0.693147\n",
      "21      0.693147\n",
      "22      0.693147\n",
      "23      0.916291\n",
      "24      0.693147\n",
      "25      0.693147\n",
      "26      1.098612\n",
      "27      0.916291\n",
      "28      0.693147\n",
      "29      0.693147\n",
      "          ...   \n",
      "2029    1.252763\n",
      "2030    0.693147\n",
      "2031    0.693147\n",
      "2032    0.693147\n",
      "2033    0.693147\n",
      "2034    0.693147\n",
      "2035    0.693147\n",
      "2036    1.098612\n",
      "2037    1.098612\n",
      "2038    0.693147\n",
      "2039    1.098612\n",
      "2040    0.693147\n",
      "2041    0.693147\n",
      "2042    0.693147\n",
      "2043    0.693147\n",
      "2044    0.693147\n",
      "2045    0.693147\n",
      "2046    0.693147\n",
      "2047    0.693147\n",
      "2048    0.916291\n",
      "2049    0.693147\n",
      "2050    0.693147\n",
      "2051    0.693147\n",
      "2052    0.693147\n",
      "2053    0.693147\n",
      "2054    0.693147\n",
      "2055    0.693147\n",
      "2056    0.693147\n",
      "2057    0.693147\n",
      "2058    0.693147\n",
      "Name: bathrooms, dtype: float64\n",
      "0       0.693147\n",
      "1       0.693147\n",
      "2       1.098612\n",
      "3       0.693147\n",
      "4       0.000000\n",
      "5       0.693147\n",
      "6       1.098612\n",
      "7       0.693147\n",
      "8       0.693147\n",
      "9       1.098612\n",
      "10      0.693147\n",
      "11      0.000000\n",
      "12      0.000000\n",
      "13      0.000000\n",
      "14      0.693147\n",
      "15      1.098612\n",
      "16      1.386294\n",
      "17      1.098612\n",
      "18      1.098612\n",
      "19      0.693147\n",
      "20      0.693147\n",
      "21      1.098612\n",
      "22      0.693147\n",
      "23      1.098612\n",
      "24      1.098612\n",
      "25      0.693147\n",
      "26      1.386294\n",
      "27      0.693147\n",
      "28      0.693147\n",
      "29      1.098612\n",
      "          ...   \n",
      "2029    1.386294\n",
      "2030    1.098612\n",
      "2031    1.098612\n",
      "2032    1.386294\n",
      "2033    1.098612\n",
      "2034    1.098612\n",
      "2035    0.693147\n",
      "2036    1.098612\n",
      "2037    1.098612\n",
      "2038    0.693147\n",
      "2039    1.098612\n",
      "2040    1.098612\n",
      "2041    0.693147\n",
      "2042    0.693147\n",
      "2043    0.000000\n",
      "2044    0.693147\n",
      "2045    1.098612\n",
      "2046    0.693147\n",
      "2047    1.098612\n",
      "2048    1.098612\n",
      "2049    1.098612\n",
      "2050    0.693147\n",
      "2051    0.693147\n",
      "2052    0.000000\n",
      "2053    0.693147\n",
      "2054    0.693147\n",
      "2055    0.693147\n",
      "2056    1.098612\n",
      "2057    0.693147\n",
      "2058    0.693147\n",
      "Name: bedrooms, dtype: float64\n",
      "0       1.098612\n",
      "1       0.693147\n",
      "2       1.098612\n",
      "3       1.098612\n",
      "4       0.693147\n",
      "5       1.098612\n",
      "6       1.098612\n",
      "7       1.098612\n",
      "8       0.693147\n",
      "9       1.098612\n",
      "10      0.693147\n",
      "11      1.098612\n",
      "12      0.693147\n",
      "13      0.693147\n",
      "14      0.693147\n",
      "15      1.609438\n",
      "16      1.791759\n",
      "17      1.386294\n",
      "18      0.693147\n",
      "19      0.693147\n",
      "20      0.693147\n",
      "21      1.098612\n",
      "22      0.693147\n",
      "23      1.098612\n",
      "24      0.693147\n",
      "25      1.098612\n",
      "26      1.386294\n",
      "27      0.693147\n",
      "28      0.693147\n",
      "29      1.098612\n",
      "          ...   \n",
      "2029    1.386294\n",
      "2030    1.098612\n",
      "2031    1.098612\n",
      "2032    1.386294\n",
      "2033    1.098612\n",
      "2034    1.386294\n",
      "2035    0.693147\n",
      "2036    1.098612\n",
      "2037    1.098612\n",
      "2038    0.693147\n",
      "2039    1.098612\n",
      "2040    1.098612\n",
      "2041    1.098612\n",
      "2042    1.098612\n",
      "2043    0.693147\n",
      "2044    0.693147\n",
      "2045    1.098612\n",
      "2046    0.693147\n",
      "2047    1.386294\n",
      "2048    1.098612\n",
      "2049    1.098612\n",
      "2050    1.386294\n",
      "2051    0.693147\n",
      "2052    0.693147\n",
      "2053    1.098612\n",
      "2054    0.693147\n",
      "2055    0.693147\n",
      "2056    0.693147\n",
      "2057    0.693147\n",
      "2058    1.098612\n",
      "Name: beds, dtype: float64\n",
      "0       1.098612\n",
      "1       0.693147\n",
      "2       1.609438\n",
      "3       1.098612\n",
      "4       0.693147\n",
      "5       1.609438\n",
      "6       0.693147\n",
      "7       1.098612\n",
      "8       0.693147\n",
      "9       0.693147\n",
      "10      0.693147\n",
      "11      1.098612\n",
      "12      0.693147\n",
      "13      1.098612\n",
      "14      0.693147\n",
      "15      0.693147\n",
      "16      1.609438\n",
      "17      1.098612\n",
      "18      0.693147\n",
      "19      1.098612\n",
      "20      0.693147\n",
      "21      0.693147\n",
      "22      0.693147\n",
      "23      0.693147\n",
      "24      0.693147\n",
      "25      0.693147\n",
      "26      1.791759\n",
      "27      0.693147\n",
      "28      1.098612\n",
      "29      1.609438\n",
      "          ...   \n",
      "2029    0.693147\n",
      "2030    1.609438\n",
      "2031    0.693147\n",
      "2032    1.386294\n",
      "2033    1.098612\n",
      "2034    1.609438\n",
      "2035    0.693147\n",
      "2036    0.693147\n",
      "2037    1.098612\n",
      "2038    0.000000\n",
      "2039    0.693147\n",
      "2040    0.693147\n",
      "2041    0.693147\n",
      "2042    0.693147\n",
      "2043    0.693147\n",
      "2044    0.693147\n",
      "2045    0.693147\n",
      "2046    0.693147\n",
      "2047    0.693147\n",
      "2048    0.693147\n",
      "2049    0.693147\n",
      "2050    1.386294\n",
      "2051    0.693147\n",
      "2052    0.693147\n",
      "2053    1.386294\n",
      "2054    0.000000\n",
      "2055    0.693147\n",
      "2056    0.693147\n",
      "2057    0.693147\n",
      "2058    0.693147\n",
      "Name: guests_included, dtype: float64\n",
      "0       3.044522\n",
      "1       3.258097\n",
      "2       3.931826\n",
      "3       2.944439\n",
      "4       0.000000\n",
      "5       0.000000\n",
      "6       0.000000\n",
      "7       3.258097\n",
      "8       0.000000\n",
      "9       0.000000\n",
      "10      0.000000\n",
      "11      3.044522\n",
      "12      0.000000\n",
      "13      3.044522\n",
      "14      0.000000\n",
      "15      0.000000\n",
      "16      3.931826\n",
      "17      3.258097\n",
      "18      0.000000\n",
      "19      3.044522\n",
      "20      0.000000\n",
      "21      0.000000\n",
      "22      0.000000\n",
      "23      0.000000\n",
      "24      0.000000\n",
      "25      0.000000\n",
      "26      4.615121\n",
      "27      0.000000\n",
      "28      3.258097\n",
      "29      0.000000\n",
      "          ...   \n",
      "2029    0.000000\n",
      "2030    3.931826\n",
      "2031    0.000000\n",
      "2032    2.397895\n",
      "2033    2.397895\n",
      "2034    3.258097\n",
      "2035    0.000000\n",
      "2036    0.000000\n",
      "2037    1.791759\n",
      "2038    0.000000\n",
      "2039    0.000000\n",
      "2040    0.000000\n",
      "2041    0.000000\n",
      "2042    0.000000\n",
      "2043    3.433987\n",
      "2044    0.000000\n",
      "2045    0.000000\n",
      "2046    0.000000\n",
      "2047    0.000000\n",
      "2048    0.000000\n",
      "2049    0.000000\n",
      "2050    3.931826\n",
      "2051    0.000000\n",
      "2052    0.000000\n",
      "2053    3.931826\n",
      "2054    0.000000\n",
      "2055    0.000000\n",
      "2056    3.583519\n",
      "2057    0.000000\n",
      "2058    2.397895\n",
      "Name: extra_people, dtype: float64\n",
      "0       0.693147\n",
      "1       1.098612\n",
      "2       1.098612\n",
      "3       1.098612\n",
      "4       2.079442\n",
      "5       1.098612\n",
      "6       2.397895\n",
      "7       1.098612\n",
      "8       1.098612\n",
      "9       0.693147\n",
      "10      1.098612\n",
      "11      1.098612\n",
      "12      1.098612\n",
      "13      0.693147\n",
      "14      1.098612\n",
      "15      0.693147\n",
      "16      0.693147\n",
      "17      1.098612\n",
      "18      1.791759\n",
      "19      1.098612\n",
      "20      1.098612\n",
      "21      0.693147\n",
      "22      1.098612\n",
      "23      0.693147\n",
      "24      0.693147\n",
      "25      0.693147\n",
      "26      1.609438\n",
      "27      1.098612\n",
      "28      1.609438\n",
      "29      1.386294\n",
      "          ...   \n",
      "2029    0.693147\n",
      "2030    1.098612\n",
      "2031    1.386294\n",
      "2032    1.945910\n",
      "2033    1.098612\n",
      "2034    1.386294\n",
      "2035    1.386294\n",
      "2036    1.386294\n",
      "2037    0.693147\n",
      "2038    1.098612\n",
      "2039    0.693147\n",
      "2040    1.098612\n",
      "2041    0.693147\n",
      "2042    1.098612\n",
      "2043    0.693147\n",
      "2044    1.386294\n",
      "2045    0.693147\n",
      "2046    1.386294\n",
      "2047    0.693147\n",
      "2048    1.386294\n",
      "2049    1.098612\n",
      "2050    1.386294\n",
      "2051    1.609438\n",
      "2052    2.639057\n",
      "2053    0.693147\n",
      "2054    1.098612\n",
      "2055    1.098612\n",
      "2056    0.693147\n",
      "2057    0.693147\n",
      "2058    0.693147\n",
      "Name: minimum_nights, dtype: float64\n",
      "0       7.026427\n",
      "1       5.303305\n",
      "2       2.708050\n",
      "3       7.026427\n",
      "4       7.026427\n",
      "5       7.026427\n",
      "6       7.026427\n",
      "7       7.026427\n",
      "8       7.026427\n",
      "9       7.026427\n",
      "10      3.610918\n",
      "11      7.026427\n",
      "12      2.079442\n",
      "13      3.433987\n",
      "14      2.397895\n",
      "15      7.026427\n",
      "16      7.026427\n",
      "17      7.026427\n",
      "18      7.026427\n",
      "19      7.026427\n",
      "20      1.386294\n",
      "21      7.026427\n",
      "22      1.791759\n",
      "23      7.026427\n",
      "24      7.026427\n",
      "25      7.026427\n",
      "26      7.026427\n",
      "27      7.026427\n",
      "28      4.615121\n",
      "29      7.026427\n",
      "          ...   \n",
      "2029    7.026427\n",
      "2030    4.110874\n",
      "2031    7.026427\n",
      "2032    4.499810\n",
      "2033    5.902633\n",
      "2034    4.110874\n",
      "2035    7.026427\n",
      "2036    7.026427\n",
      "2037    7.026427\n",
      "2038    7.026427\n",
      "2039    7.026427\n",
      "2040    7.026427\n",
      "2041    7.026427\n",
      "2042    7.026427\n",
      "2043    1.386294\n",
      "2044    4.510860\n",
      "2045    7.026427\n",
      "2046    7.026427\n",
      "2047    7.026427\n",
      "2048    7.026427\n",
      "2049    7.026427\n",
      "2050    7.026427\n",
      "2051    5.902633\n",
      "2052    5.902633\n",
      "2053    7.026427\n",
      "2054    7.026427\n",
      "2055    7.026427\n",
      "2056    7.026427\n",
      "2057    7.026427\n",
      "2058    7.026427\n",
      "Name: maximum_nights, dtype: float64\n",
      "0       0.000000\n",
      "1       0.000000\n",
      "2       0.000000\n",
      "3       2.079442\n",
      "4       2.944439\n",
      "5       2.197225\n",
      "6       3.218876\n",
      "7       2.639057\n",
      "8       0.000000\n",
      "9       1.386294\n",
      "10      0.693147\n",
      "11      1.098612\n",
      "12      0.000000\n",
      "13      1.791759\n",
      "14      0.000000\n",
      "15      0.000000\n",
      "16      0.000000\n",
      "17      2.079442\n",
      "18      0.000000\n",
      "19      2.079442\n",
      "20      1.098612\n",
      "21      0.000000\n",
      "22      0.000000\n",
      "23      0.000000\n",
      "24      0.000000\n",
      "25      0.000000\n",
      "26      2.772589\n",
      "27      1.098612\n",
      "28      1.791759\n",
      "29      3.135494\n",
      "          ...   \n",
      "2029    0.000000\n",
      "2030    2.197225\n",
      "2031    0.000000\n",
      "2032    2.484907\n",
      "2033    1.791759\n",
      "2034    2.708050\n",
      "2035    0.000000\n",
      "2036    3.433987\n",
      "2037    0.000000\n",
      "2038    0.693147\n",
      "2039    0.000000\n",
      "2040    0.000000\n",
      "2041    2.708050\n",
      "2042    1.609438\n",
      "2043    2.197225\n",
      "2044    0.000000\n",
      "2045    0.000000\n",
      "2046    2.397895\n",
      "2047    1.386294\n",
      "2048    3.401197\n",
      "2049    1.609438\n",
      "2050    2.484907\n",
      "2051    3.401197\n",
      "2052    0.000000\n",
      "2053    2.397895\n",
      "2054    1.386294\n",
      "2055    1.098612\n",
      "2056    0.000000\n",
      "2057    0.000000\n",
      "2058    0.000000\n",
      "Name: availability_30, dtype: float64\n",
      "0       0.000000\n",
      "1       0.000000\n",
      "2       0.000000\n",
      "3       3.401197\n",
      "4       3.891820\n",
      "5       2.197225\n",
      "6       4.007333\n",
      "7       3.713572\n",
      "8       0.000000\n",
      "9       2.639057\n",
      "10      2.079442\n",
      "11      1.386294\n",
      "12      0.000000\n",
      "13      3.091042\n",
      "14      0.000000\n",
      "15      0.000000\n",
      "16      0.000000\n",
      "17      2.995732\n",
      "18      0.000000\n",
      "19      3.091042\n",
      "20      1.098612\n",
      "21      0.000000\n",
      "22      1.609438\n",
      "23      0.000000\n",
      "24      0.000000\n",
      "25      0.000000\n",
      "26      3.806662\n",
      "27      1.791759\n",
      "28      2.833213\n",
      "29      3.970292\n",
      "          ...   \n",
      "2029    2.397895\n",
      "2030    2.302585\n",
      "2031    0.000000\n",
      "2032    3.737670\n",
      "2033    2.397895\n",
      "2034    3.806662\n",
      "2035    0.000000\n",
      "2036    4.110874\n",
      "2037    0.000000\n",
      "2038    0.693147\n",
      "2039    0.000000\n",
      "2040    0.000000\n",
      "2041    3.610918\n",
      "2042    3.295837\n",
      "2043    3.401197\n",
      "2044    0.000000\n",
      "2045    0.000000\n",
      "2046    3.044522\n",
      "2047    2.397895\n",
      "2048    4.094345\n",
      "2049    3.044522\n",
      "2050    2.484907\n",
      "2051    4.094345\n",
      "2052    0.000000\n",
      "2053    3.637586\n",
      "2054    2.708050\n",
      "2055    2.772589\n",
      "2056    0.000000\n",
      "2057    1.609438\n",
      "2058    0.000000\n",
      "Name: availability_60, dtype: float64\n",
      "0       0.000000\n",
      "1       1.791759\n",
      "2       0.000000\n",
      "3       4.094345\n",
      "4       4.369448\n",
      "5       2.197225\n",
      "6       4.442651\n",
      "7       4.262680\n",
      "8       0.000000\n",
      "9       3.737670\n",
      "10      3.433987\n",
      "11      1.791759\n",
      "12      0.000000\n",
      "13      3.951244\n",
      "14      1.791759\n",
      "15      0.000000\n",
      "16      0.000000\n",
      "17      3.891820\n",
      "18      0.000000\n",
      "19      3.951244\n",
      "20      1.098612\n",
      "21      0.000000\n",
      "22      3.555348\n",
      "23      0.000000\n",
      "24      0.000000\n",
      "25      0.000000\n",
      "26      4.317488\n",
      "27      2.833213\n",
      "28      3.850148\n",
      "29      4.418841\n",
      "          ...   \n",
      "2029    2.708050\n",
      "2030    2.890372\n",
      "2031    0.000000\n",
      "2032    4.143135\n",
      "2033    3.713572\n",
      "2034    4.317488\n",
      "2035    0.000000\n",
      "2036    4.510860\n",
      "2037    0.000000\n",
      "2038    0.693147\n",
      "2039    0.000000\n",
      "2040    0.000000\n",
      "2041    4.143135\n",
      "2042    3.988984\n",
      "2043    4.025352\n",
      "2044    0.000000\n",
      "2045    0.000000\n",
      "2046    3.663562\n",
      "2047    3.433987\n",
      "2048    4.499810\n",
      "2049    3.663562\n",
      "2050    2.484907\n",
      "2051    4.499810\n",
      "2052    0.000000\n",
      "2053    4.219508\n",
      "2054    3.610918\n",
      "2055    3.178054\n",
      "2056    0.000000\n",
      "2057    2.397895\n",
      "2058    0.000000\n",
      "Name: availability_90, dtype: float64\n",
      "0       0.000000\n",
      "1       5.220356\n",
      "2       5.517453\n",
      "3       5.786897\n",
      "4       5.659482\n",
      "5       2.197225\n",
      "6       5.886104\n",
      "7       5.846439\n",
      "8       0.000000\n",
      "9       5.758902\n",
      "10      3.433987\n",
      "11      2.197225\n",
      "12      0.000000\n",
      "13      5.783825\n",
      "14      3.367296\n",
      "15      0.000000\n",
      "16      4.510860\n",
      "17      5.717028\n",
      "18      0.000000\n",
      "19      5.777652\n",
      "20      1.098612\n",
      "21      0.000000\n",
      "22      5.736572\n",
      "23      0.000000\n",
      "24      0.000000\n",
      "25      0.000000\n",
      "26      5.857933\n",
      "27      3.828641\n",
      "28      5.774552\n",
      "29      5.463832\n",
      "          ...   \n",
      "2029    2.708050\n",
      "2030    2.890372\n",
      "2031    0.000000\n",
      "2032    5.823046\n",
      "2033    5.707110\n",
      "2034    4.919981\n",
      "2035    5.488938\n",
      "2036    4.770685\n",
      "2037    5.318120\n",
      "2038    0.693147\n",
      "2039    0.000000\n",
      "2040    0.000000\n",
      "2041    5.823046\n",
      "2042    4.969813\n",
      "2043    4.025352\n",
      "2044    1.386294\n",
      "2045    0.000000\n",
      "2046    5.056246\n",
      "2047    5.700444\n",
      "2048    5.192957\n",
      "2049    5.030438\n",
      "2050    3.871201\n",
      "2051    5.899897\n",
      "2052    5.517453\n",
      "2053    5.837730\n",
      "2054    3.610918\n",
      "2055    4.343805\n",
      "2056    0.000000\n",
      "2057    5.655992\n",
      "2058    0.000000\n",
      "Name: availability_365, dtype: float64\n"
     ]
    }
   ],
   "source": [
    "# 3rd normalize continuous data imputation\n",
    "for imputed in abb[contf]:\n",
    "    #imputed_boxcox_m, _ = stats.boxcox(abb[imputed])\n",
    "    #imp_boxcox=pd.DataFrame(imputed_boxcox_m)\n",
    "    #log transfrom\n",
    "    abb[imputed]=np.log(abb[imputed]+1)\n",
    "    # cube root transform\n",
    "    #abb[imputed]=abb[imputed]**(1/3)\n",
    "    print(abb[imputed])\n",
    "    min_val = abb[imputed].min()\n",
    "    max_val = abb[imputed].max()\n",
    "    abb[imputed] = abb[imputed].apply(lambda x: (x - min_val) / (max_val - min_val))"
   ]
  },
  {
   "cell_type": "code",
   "execution_count": 12,
   "metadata": {
    "collapsed": false
   },
   "outputs": [],
   "source": [
    "# 4th\n",
    "# filled nans with a type\n",
    "\n",
    "abb['host_verifications']=abb['host_verifications'].fillna('no_verification')\n",
    "abb['amenities']=abb['amenities'].fillna('no_amenities')\n",
    "\n",
    "# 5th \n",
    "import re\n",
    "\n",
    "def clean_host_verifications(x):\n",
    "    return ''.join(re.split(r'[\\[\\s\\'\\]\\d]', x))\n",
    "abb['host_verifications']=abb['host_verifications'].apply(lambda x: clean_host_verifications(x))\n",
    "\n",
    "def clean_amenities(x):\n",
    "    return ''.join(re.split(r'[\\{\\\"\\}:]', x))\n",
    "abb['amenities']=abb['amenities'].apply(lambda x: clean_amenities(x))\n",
    "\n",
    "abb['amenities']=abb['amenities'].apply(lambda x: x.replace(\"translation missing en.hosting_amenity_49\",\"\"))\n",
    "abb['amenities']=abb['amenities'].apply(lambda x: x.replace(\"translation missing en.hosting_amenity_50\",\"\"))\n",
    "abb['amenities']=abb['amenities'].apply(lambda x: x.replace(\"10.0\",\"\"))\n",
    "abb['amenities']=abb['amenities'].apply(lambda x: x.rstrip(\",\"))\n",
    "abb['amenities']=abb['amenities'].apply(lambda x: x.lstrip(\",\"))\n",
    "abb['amenities']=abb['amenities'].apply(lambda x: re.sub(re.compile(r'(,){2,}'), ',', x))\n",
    "\n",
    "abb['amenities']=abb['amenities'].apply(lambda x:'no_amenities' if x=='None' or x=='' else x)\n",
    "abb['host_verifications']=abb['host_verifications'].apply(lambda x: 'no_verification' if x=='None' or x=='' else x)"
   ]
  },
  {
   "cell_type": "code",
   "execution_count": 13,
   "metadata": {
    "collapsed": false
   },
   "outputs": [
    {
     "name": "stdout",
     "output_type": "stream",
     "text": [
      "{'Hot Tub', 'Kitchen', 'Cat(s)', 'no_amenities', 'Smoking Allowed', 'Free Parking on Street', 'Pets Allowed', 'First Aid Kit', 'Dog(s)', 'Carbon Monoxide Detector', 'Hair Dryer', 'Air Conditioning', 'Hangers', 'Safety Card', 'Wireless Internet', 'Smoke Detector', 'Breakfast', 'Paid Parking Off Premises', 'Heating', 'Buzzer/Wireless Intercom', 'Washer', '24-Hour Check-in', 'Pets live on this property', 'Pool', 'Wheelchair Accessible', 'Essentials', 'Dryer', 'Cable TV', 'Gym', 'Washer / Dryer', 'Internet', 'Lock on Bedroom Door', 'Other pet(s)', 'Free Parking on Premises', 'Fire Extinguisher', 'TV', 'Suitable for Events', 'Doorman', 'Family/Kid Friendly', 'Shampoo', 'Laptop Friendly Workspace', 'Indoor Fireplace', 'Elevator in Building', 'Iron'}\n",
      "{'phone', 'google', 'jumio', 'amex', 'weibo', 'kba', 'manual_offline', 'facebook', 'linkedin', 'no_verification', 'email', 'manual_online', 'reviews'}\n"
     ]
    }
   ],
   "source": [
    "#create new columns for verifications\n",
    "# 5th\n",
    "verifications_set=set()\n",
    "verifications_set_amn=set()\n",
    "\n",
    "def expand_as_cols(x):\n",
    "    global verifications_set\n",
    "    temp=x.split(\",\")\n",
    "    verifications_set|=set(temp)\n",
    "abb['host_verifications'].apply(lambda x: expand_as_cols(x))\n",
    "\n",
    "def expand_as_cols(x):\n",
    "    global verifications_set_amn\n",
    "    temp=x.split(\",\")\n",
    "    verifications_set_amn|=set(temp)\n",
    "abb['amenities'].apply(lambda x: expand_as_cols(x))\n",
    "print(verifications_set_amn)\n",
    "print(verifications_set)"
   ]
  },
  {
   "cell_type": "code",
   "execution_count": 14,
   "metadata": {
    "collapsed": false
   },
   "outputs": [
    {
     "data": {
      "text/plain": [
       "6"
      ]
     },
     "execution_count": 14,
     "metadata": {},
     "output_type": "execute_result"
    }
   ],
   "source": [
    "len(cat_features)"
   ]
  },
  {
   "cell_type": "code",
   "execution_count": 15,
   "metadata": {
    "collapsed": false,
    "scrolled": true
   },
   "outputs": [
    {
     "data": {
      "text/plain": [
       "(2059, 92)"
      ]
     },
     "execution_count": 15,
     "metadata": {},
     "output_type": "execute_result"
    }
   ],
   "source": [
    "#6 th\n",
    "for i in verifications_set_amn:\n",
    "    abb[i]=0\n",
    "    \n",
    "# encode 1 0 values\n",
    "for i in abb.index.values.tolist():\n",
    "    new_cols=abb['amenities'].loc[i].split(\",\")\n",
    "    for j in new_cols:\n",
    "        abb.at[i,j]=1\n",
    "        \n",
    "for i in verifications_set:\n",
    "    abb[i]=0\n",
    "    \n",
    "# encode 1 0 values\n",
    "for i in abb.index.values.tolist():\n",
    "    new_cols=abb['host_verifications'].loc[i].split(\",\")\n",
    "    for j in new_cols:\n",
    "        abb.at[i,j]=1\n",
    "\n",
    "abb.drop('host_verifications',1)\n",
    "abb.drop('amenities',1)\n",
    "abb.shape"
   ]
  },
  {
   "cell_type": "code",
   "execution_count": 16,
   "metadata": {
    "collapsed": false
   },
   "outputs": [
    {
     "data": {
      "text/plain": [
       "(2059, 92)"
      ]
     },
     "execution_count": 16,
     "metadata": {},
     "output_type": "execute_result"
    }
   ],
   "source": [
    "abb.shape"
   ]
  },
  {
   "cell_type": "code",
   "execution_count": 17,
   "metadata": {
    "collapsed": false,
    "scrolled": true
   },
   "outputs": [],
   "source": [
    "# 7 th\n",
    "import pandas as pd\n",
    "cat_features.remove('host_verifications')\n",
    "cat_features.remove('amenities')\n",
    "temp=pd.get_dummies(abb[cat_features])\n",
    "abb = gpd.GeoDataFrame(pd.concat([abb, temp], axis=1, join_axes=[abb.index]))\n",
    "\n",
    "abb.drop(cat_features,axis=1,inplace=True)\n",
    "abb.drop('host_verifications',axis=1,inplace=True)\n",
    "abb.drop('amenities',axis=1,inplace=True)\n",
    "\n"
   ]
  },
  {
   "cell_type": "code",
   "execution_count": 18,
   "metadata": {
    "collapsed": false
   },
   "outputs": [
    {
     "data": {
      "text/plain": [
       "105"
      ]
     },
     "execution_count": 18,
     "metadata": {},
     "output_type": "execute_result"
    }
   ],
   "source": [
    "len(abb.columns.tolist())"
   ]
  },
  {
   "cell_type": "code",
   "execution_count": 19,
   "metadata": {
    "collapsed": false
   },
   "outputs": [
    {
     "data": {
      "text/plain": [
       "(2059, 105)"
      ]
     },
     "execution_count": 19,
     "metadata": {},
     "output_type": "execute_result"
    }
   ],
   "source": [
    "# END OF PREPROCESSING\n",
    "abb.shape"
   ]
  },
  {
   "cell_type": "markdown",
   "metadata": {},
   "source": [
    "# Experimented code"
   ]
  },
  {
   "cell_type": "code",
   "execution_count": null,
   "metadata": {
    "collapsed": false
   },
   "outputs": [],
   "source": [
    "# Create figure and axes (this time it's 9, arranged 3 by 3)\n",
    "f, axs = plt.subplots(nrows=4, ncols=5, figsize=(12, 12))\n",
    "# Make the axes accessible with single indexing\n",
    "axs = axs.flatten()\n",
    "# Start the loop over all the variables of interest\n",
    "for i, col in enumerate(contf):\n",
    "    # select the axis where the map will go\n",
    "    ax = axs[i]\n",
    "    # Plot the map\n",
    "    abb.plot(column=col, axes=ax, scheme='Quantiles', linewidth=0, colormap='Blues')\n",
    "    # Remove axis clutter\n",
    "    ax.set_axis_off()\n",
    "    # Set the axis title to the name of variable being plotted\n",
    "    ax.set_title(col)\n",
    "# Display the figure\n",
    "plt.show()"
   ]
  },
  {
   "cell_type": "code",
   "execution_count": null,
   "metadata": {
    "collapsed": false
   },
   "outputs": [],
   "source": [
    "# clustering on continuous features\n",
    "\n",
    "kmeans5 = cluster.KMeans(n_clusters=4)\n",
    "k5cls = kmeans5.fit(abb[contf])\n",
    "abb['k5cls'] = k5cls.labels_\n",
    "# Setup figure and ax\n",
    "f, ax = plt.subplots(1, figsize=(9, 9))\n",
    "# Plot unique values choropleth including a legend and with no boundary lines\n",
    "abb.plot(column='k5cls', categorical=True, legend=True, linewidth=0, axes=ax)\n",
    "# Remove axis\n",
    "ax.set_axis_off()\n",
    "# Keep axes proportionate\n",
    "plt.axis('equal')\n",
    "# Add title\n",
    "plt.title('AirBnb Geodemographic Kmeans classification for Boston')\n",
    "# Display the map\n",
    "plt.show()"
   ]
  },
  {
   "cell_type": "code",
   "execution_count": null,
   "metadata": {
    "collapsed": false
   },
   "outputs": [],
   "source": [
    "from sklearn.decomposition import PCA\n",
    "\n",
    "pca = PCA(n_components=3)\n",
    "\n",
    "diff_set=set(contf+ratings+geo_features)\n",
    "l=set(abb.columns.tolist()).difference(diff_set)\n",
    "\n",
    "principalComponents = pca.fit_transform(abb[list(l)])\n",
    "\n",
    "principalDf = pd.DataFrame(data = principalComponents\n",
    "             , columns = ['principal component 1', 'principal component 2','principal component 3'])\n",
    "\n",
    "pcaCompDf = gpd.GeoDataFrame(principalDf.values)"
   ]
  },
  {
   "cell_type": "code",
   "execution_count": null,
   "metadata": {
    "collapsed": false
   },
   "outputs": [],
   "source": [
    "kmeans5 = cluster.KMeans(n_clusters=4)\n",
    "k5cls = kmeans5.fit(pcaCompDf)\n",
    "abb['pca_km_contpca_km_cont'] = k5cls.labels_"
   ]
  },
  {
   "cell_type": "code",
   "execution_count": 129,
   "metadata": {
    "collapsed": false
   },
   "outputs": [
    {
     "data": {
      "text/plain": [
       "(2059, 105)"
      ]
     },
     "execution_count": 129,
     "metadata": {},
     "output_type": "execute_result"
    }
   ],
   "source": [
    "abb.shape"
   ]
  },
  {
   "cell_type": "code",
   "execution_count": null,
   "metadata": {
    "collapsed": false
   },
   "outputs": [],
   "source": [
    "from mpl_toolkits.mplot3d import Axes3D\n",
    "fig = plt.figure()\n",
    "ax = Axes3D(fig)\n",
    "scatter = ax.scatter(pcaCompDf[0],pcaCompDf[1],pcaCompDf[2],\n",
    "                     c=abb['pca_km_cont'],s=50)\n",
    "ax.set_title('K-Means Clustering')\n",
    "ax.set_xlabel('PCA1')\n",
    "ax.set_ylabel('PCA2')\n",
    "ax.set_ylabel('PCA3')\n",
    "plt.colorbar(scatter)"
   ]
  },
  {
   "cell_type": "code",
   "execution_count": null,
   "metadata": {
    "collapsed": false
   },
   "outputs": [],
   "source": [
    "# clustering on continuous features\n",
    "\n",
    "# Setup figure and ax\n",
    "f, ax = plt.subplots(1, figsize=(9, 9))\n",
    "# Plot unique values choropleth including a legend and with no boundary lines\n",
    "abb.plot(column='pca_km_cont', categorical=True, legend=True, linewidth=0, axes=ax)\n",
    "# Remove axis\n",
    "ax.set_axis_off()\n",
    "# Keep axes proportionate\n",
    "plt.axis('equal')\n",
    "# Add title\n",
    "plt.title('AirBnb Geodemographic PCA + Kmeans classification for Boston')\n",
    "# Display the map\n",
    "plt.show()"
   ]
  },
  {
   "cell_type": "code",
   "execution_count": null,
   "metadata": {
    "collapsed": false,
    "scrolled": true
   },
   "outputs": [],
   "source": [
    "abb.co"
   ]
  },
  {
   "cell_type": "code",
   "execution_count": null,
   "metadata": {
    "collapsed": false
   },
   "outputs": [],
   "source": [
    "# Create figure and axes (this time it's 9, arranged 3 by 3)\n",
    "f, axs = plt.subplots(nrows=3, ncols=3, figsize=(12, 12))\n",
    "# Make the axes accessible with single indexing\n",
    "axs = axs.flatten()\n",
    "# Start the loop over all the variables of interest\n",
    "for i, col in enumerate(ratings):\n",
    "    # select the axis where the map will go\n",
    "    ax = axs[i]\n",
    "    # Plot the map\n",
    "    abb.plot(column=col, axes=ax, scheme='Quantiles', linewidth=0, colormap='Blues')\n",
    "    # Remove axis clutter\n",
    "    ax.set_axis_off()\n",
    "    # Set the axis title to the name of variable being plotted\n",
    "    ax.set_title(col)\n",
    "# Display the figure\n",
    "plt.show()\n",
    "\n",
    "# Create figure and axes (this time it's 9, arranged 3 by 3)\n",
    "f, axs = plt.subplots(nrows=2, ncols=1, figsize=(12, 12))\n",
    "# Make the axes accessible with single indexing\n",
    "axs = axs.flatten()\n",
    "# Start the loop over all the variables of interest\n",
    "for i, col in enumerate(['review_scores_location']):\n",
    "    # select the axis where the map will go\n",
    "    ax = axs[i]\n",
    "    # Plot the map\n",
    "    us_abb.plot(column=col, axes=ax, scheme='Quantiles', linewidth=0, colormap='Blues')\n",
    "    # Remove axis clutter\n",
    "    ax.set_axis_off()\n",
    "    # Set the axis title to the name of variable being plotted\n",
    "    ax.set_title(col)\n",
    "# Display the figure\n",
    "plt.show()\n",
    "\n",
    "kmeans5 = cluster.KMeans(n_clusters=4)\n",
    "\n",
    "#k5cls = kmeans5.fit(abb[ratings])\n",
    "k5cls = kmeans5.fit(us_abb[ratings])\n",
    "\n",
    "# Setup figure and ax\n",
    "f, ax = plt.subplots(1, figsize=(10, 10))\n",
    "# Plot unique values choropleth including a legend and with no boundary lines\n",
    "us_abb.plot(column='k5cls', categorical=True, legend=True, linewidth=0, axes=ax)\n",
    "# Remove axis\n",
    "ax.set_axis_off()\n",
    "# Keep axes proportionate\n",
    "plt.axis('equal')\n",
    "# Add title\n",
    "plt.title('AirBnb Geodemographic classification for US')\n",
    "# Display the map\n",
    "plt.show()"
   ]
  },
  {
   "cell_type": "code",
   "execution_count": null,
   "metadata": {
    "collapsed": false
   },
   "outputs": [],
   "source": [
    "from sklearn.mixture import GaussianMixture\n",
    "gmm = GaussianMixture(n_components = 3)\n",
    "f_list=[x for x in abb.columns.tolist() if x not in geo_features+ratings]\n",
    "gmm.fit(abb[f_list])"
   ]
  },
  {
   "cell_type": "code",
   "execution_count": null,
   "metadata": {
    "collapsed": true
   },
   "outputs": [],
   "source": [
    "labels = gmm.predict(abb[f_list]) \n",
    "abb['labels']= labels"
   ]
  },
  {
   "cell_type": "code",
   "execution_count": null,
   "metadata": {
    "collapsed": false
   },
   "outputs": [],
   "source": [
    "# Setup figure and ax\n",
    "f, ax = plt.subplots(1, figsize=(5, 5))\n",
    "# Plot unique values choropleth including a legend and with no boundary lines\n",
    "abb.plot(column='labels', categorical=True, legend=True, linewidth=0, axes=ax)\n",
    "# Remove axis\n",
    "ax.set_axis_off()\n",
    "# Keep axes proportionate\n",
    "plt.axis('equal')\n",
    "# Add title\n",
    "plt.title('AirBnb Geodemographic GMM Clustering for Boston')\n",
    "# Display the map\n",
    "plt.show()\n",
    "\n",
    "# Create figure and axes (this time it's 9, arranged 3 by 3)\n",
    "f, axs = plt.subplots(1, figsize=(5, 5))\n",
    "abb.plot(column=col, axes=axs, scheme='Quantiles', linewidth=0, colormap='Blues')\n",
    "# Remove axis\n",
    "ax.set_axis_off()\n",
    "# Keep axes proportionate\n",
    "plt.axis('equal')\n",
    "# Add title\n",
    "plt.title('AirBnb Geodemographic GMM Clustering for Boston')\n",
    "# Display the figure\n",
    "plt.show()"
   ]
  },
  {
   "cell_type": "code",
   "execution_count": null,
   "metadata": {
    "collapsed": false
   },
   "outputs": [],
   "source": [
    "for i in range(0,3):\n",
    "    print(abb_original.loc[abb['labels']==i]['price'].mean())\n",
    "for i in range(0,3):\n",
    "    print(abb.loc[abb['labels']==i].shape)"
   ]
  },
  {
   "cell_type": "code",
   "execution_count": null,
   "metadata": {
    "collapsed": true
   },
   "outputs": [],
   "source": [
    "########################################################\n",
    "########################################################\n",
    "\n",
    "######## END OF SCRATCH CODE ###########################\n"
   ]
  },
  {
   "cell_type": "markdown",
   "metadata": {},
   "source": [
    "# Feature Selection"
   ]
  },
  {
   "cell_type": "code",
   "execution_count": 19,
   "metadata": {
    "collapsed": true
   },
   "outputs": [],
   "source": [
    "# Feature selection\n",
    "f_list=[x for x in abb.columns.tolist() if x not in geo_features+ratings]"
   ]
  },
  {
   "cell_type": "markdown",
   "metadata": {
    "collapsed": true
   },
   "source": [
    "# Principal Component Analysis"
   ]
  },
  {
   "cell_type": "code",
   "execution_count": 20,
   "metadata": {
    "collapsed": false
   },
   "outputs": [],
   "source": [
    "###\n",
    "\n",
    "#Principal Components Analysis\n",
    "\n",
    "###\n",
    "from sklearn.decomposition import PCA\n",
    "\n",
    "## getting the categorical features\n",
    "diff_set=set(contf+ratings+geo_features)\n",
    "l=set(abb.columns.tolist()).difference(diff_set)\n",
    "\n",
    "# ## remove host verifications and amenities\n",
    "# l=l.difference(verifications_set_amn)\n",
    "# l=l.difference(verifications_set)\n",
    "#l=list()\n",
    "\n",
    "l=list(l)\n",
    "\n",
    "comp=5\n",
    "pca = PCA(n_components=comp)\n",
    "rem=[\"availability_30\",\"availability_60\",\"availability_90\",\"availability_365\"]\n",
    "contf=[x for x in contf if x not in rem]\n",
    "l=[x for x in l if x not in rem]\n",
    "f_list=[x for x in f_list if x not in rem]\n",
    "\n",
    "\n",
    "principalComponents = pca.fit_transform(abb[contf])\n",
    "\n",
    "cols=[]\n",
    "for i in range(0,comp):\n",
    "    cols.append('principal comp'+str(i))\n",
    "\n",
    "principalDf = pd.DataFrame(data = principalComponents\n",
    "             , columns = cols)\n",
    "\n",
    "pcaCompDf = gpd.GeoDataFrame(principalDf.values)"
   ]
  },
  {
   "cell_type": "markdown",
   "metadata": {},
   "source": [
    "# BIC Score evaluation"
   ]
  },
  {
   "cell_type": "code",
   "execution_count": 106,
   "metadata": {
    "collapsed": false,
    "scrolled": true
   },
   "outputs": [
    {
     "data": {
      "image/png": "[encoded data removed]",
      "text/plain": [
       "<Figure size 432x288 with 1 Axes>"
      ]
     },
     "metadata": {},
     "output_type": "display_data"
    }
   ],
   "source": [
    "#####################\n",
    "\n",
    "#### Find K #########\n",
    "\n",
    "#####################\n",
    "\n",
    "# Bayesian Information Criterion for GMM\n",
    "# Lower the better\n",
    "\n",
    "lst=[]\n",
    "ilst=[]\n",
    "for i in range(1,10):\n",
    "    pca_gmm = GaussianMixture(n_components = i,covariance_type='full')\n",
    "    pca_gmm.fit(pcaCompDf)\n",
    "    bic_score=pca_gmm.bic(pcaCompDf)\n",
    "    lst.append(bic_score)\n",
    "    ilst.append(i)\n",
    "\n",
    "#lst.index(min(lst))\n",
    "plt.scatter(ilst,lst)\n",
    "plt.show()"
   ]
  },
  {
   "cell_type": "markdown",
   "metadata": {},
   "source": [
    "# PCA Energy "
   ]
  },
  {
   "cell_type": "code",
   "execution_count": 107,
   "metadata": {
    "collapsed": false
   },
   "outputs": [
    {
     "data": {
      "text/plain": [
       "array([0.31174448, 0.54184046, 0.66596261, 0.75127085, 0.80720925])"
      ]
     },
     "execution_count": 107,
     "metadata": {},
     "output_type": "execute_result"
    }
   ],
   "source": [
    "pca.explained_variance_ratio_.cumsum()"
   ]
  },
  {
   "cell_type": "code",
   "execution_count": 115,
   "metadata": {
    "collapsed": true
   },
   "outputs": [],
   "source": [
    "pcaCompDf = abb[contf]"
   ]
  },
  {
   "cell_type": "markdown",
   "metadata": {},
   "source": [
    "# Clustering Algorithms"
   ]
  },
  {
   "cell_type": "code",
   "execution_count": 21,
   "metadata": {
    "collapsed": false
   },
   "outputs": [
    {
     "data": {
      "text/plain": [
       "GaussianMixture(covariance_type='full', init_params='kmeans', max_iter=100,\n",
       "        means_init=None, n_components=5, n_init=1, precisions_init=None,\n",
       "        random_state=None, reg_covar=1e-06, tol=0.001, verbose=0,\n",
       "        verbose_interval=10, warm_start=False, weights_init=None)"
      ]
     },
     "execution_count": 21,
     "metadata": {},
     "output_type": "execute_result"
    }
   ],
   "source": [
    "###############################\n",
    "\n",
    "### Clustering methods ########\n",
    "\n",
    "###############################\n",
    "\n",
    "# # Kmeans\n",
    "# from sklearn.cluster import KMeans\n",
    "# pca_gmm = KMeans(n_clusters=5, random_state=0).fit(pcaCompDf)\n",
    "\n",
    "# gmm\n",
    "pca_gmm = GaussianMixture(n_components = 5,covariance_type='full')\n",
    "pca_gmm.fit(pcaCompDf)\n",
    "\n",
    "# # hierarchical clustering\n",
    "# pcaCompDf=abb[l]\n",
    "# from sklearn.cluster import AgglomerativeClustering\n",
    "# pca_gmm=AgglomerativeClustering(n_clusters=5,linkage=\"single\",affinity=\"euclidean\")\n",
    "# clustering = pca_gmm.fit(pcaCompDf)\n",
    "\n",
    "# # spectral clustering\n",
    "# from sklearn.cluster import SpectralClustering\n",
    "# pca_gmm = SpectralClustering(n_clusters=5,assign_labels=\"discretize\").fit(pcaCompDf)\n"
   ]
  },
  {
   "cell_type": "markdown",
   "metadata": {
    "collapsed": false
   },
   "source": [
    " # Silhouette Score evaluation"
   ]
  },
  {
   "cell_type": "code",
   "execution_count": 117,
   "metadata": {
    "collapsed": false
   },
   "outputs": [
    {
     "data": {
      "text/plain": [
       "0.14998916966239612"
      ]
     },
     "execution_count": 117,
     "metadata": {},
     "output_type": "execute_result"
    }
   ],
   "source": [
    "# Evaluation with Silhouette Score (inter cluster separation and within cluster similarity)\n",
    "# Higher score the better\n",
    "\n",
    "# Values between 0-1 signify mixtures\n",
    "# Values < 0 means wrong cluster assignments\n",
    "\n",
    "from sklearn import metrics\n",
    "\n",
    "sil=[]\n",
    "x=[]\n",
    "bic=[]\n",
    "# from sklearn.cluster import SpectralClustering\n",
    "    \n",
    "# for i in range(2,20):\n",
    "#     # spectral clustering\n",
    "#     pca_gmm = SpectralClustering(n_clusters=5,assign_labels=\"discretize\").fit(pcaCompDf)\n",
    "#     x.append(i)\n",
    "#     sil.append(metrics.silhouette_score(pcaCompDf,pca_gmm.fit_predict(pcaCompDf), metric='euclidean'))\n",
    "#     #bic.append(pca_gmm.bic(pcaCompDf))\n",
    "    \n",
    "# plt.scatter(x,sil)\n",
    "# #plt.scatter(x,bic)\n",
    "# plt.show()\n",
    "\n",
    "metrics.silhouette_score(pcaCompDf,pca_gmm.fit_predict(pcaCompDf), metric='euclidean')"
   ]
  },
  {
   "cell_type": "markdown",
   "metadata": {},
   "source": [
    "# Label prediction and Plotting the PCs in 3d and 2d"
   ]
  },
  {
   "cell_type": "code",
   "execution_count": 22,
   "metadata": {
    "collapsed": false
   },
   "outputs": [],
   "source": [
    "labels = pca_gmm.fit_predict(pcaCompDf) \n",
    "pcaCompDf['labels']= labels"
   ]
  },
  {
   "cell_type": "code",
   "execution_count": 23,
   "metadata": {
    "collapsed": false
   },
   "outputs": [
    {
     "data": {
      "text/plain": [
       "<matplotlib.colorbar.Colorbar at 0x7f5e1665b748>"
      ]
     },
     "execution_count": 23,
     "metadata": {},
     "output_type": "execute_result"
    },
    {
     "data": {
      "image/png": "[encoded data removed]",
      "text/plain": [
       "<Figure size 432x288 with 2 Axes>"
      ]
     },
     "metadata": {},
     "output_type": "display_data"
    }
   ],
   "source": [
    "from mpl_toolkits.mplot3d import Axes3D\n",
    "fig = plt.figure()\n",
    "ax = Axes3D(fig)\n",
    "#ax = plt.add_subplot(111)\n",
    "scatter = ax.scatter(pcaCompDf[0],pcaCompDf[1],pcaCompDf[2],\n",
    "                     c=pcaCompDf['labels'],s=50)\n",
    "ax.set_title('GMM Clustering')\n",
    "ax.set_xlabel('PCA1')\n",
    "ax.set_ylabel('PCA2')\n",
    "#ax.set_zlabel('PCA3')\n",
    "plt.colorbar(scatter)"
   ]
  },
  {
   "cell_type": "raw",
   "metadata": {
    "collapsed": false
   },
   "source": [
    "#plt.scatter(pcaCompDf[0],pcaCompDf[2] ,c=pcaCompDf['labels'], s=50, cmap='viridis')\n",
    "plt.scatter(pcaCompDf[0],pcaCompDf[1] ,c=pcaCompDf['labels'], s=50, cmap='viridis')"
   ]
  },
  {
   "cell_type": "code",
   "execution_count": 24,
   "metadata": {
    "collapsed": true
   },
   "outputs": [],
   "source": [
    "###############################\n",
    "##### cluster assignment#######\n",
    "###############################\n",
    "clusters=5"
   ]
  },
  {
   "cell_type": "code",
   "execution_count": 25,
   "metadata": {
    "collapsed": false,
    "scrolled": true
   },
   "outputs": [
    {
     "data": {
      "text/html": [
       "<div>\n",
       "<table border=\"1\" class=\"dataframe\">\n",
       "  <thead>\n",
       "    <tr style=\"text-align: right;\">\n",
       "      <th></th>\n",
       "      <th>cluster0</th>\n",
       "      <th>cluster1</th>\n",
       "      <th>cluster2</th>\n",
       "      <th>cluster3</th>\n",
       "      <th>cluster4</th>\n",
       "    </tr>\n",
       "  </thead>\n",
       "  <tbody>\n",
       "    <tr>\n",
       "      <th>review_scores_rating</th>\n",
       "      <td>92.3152</td>\n",
       "      <td>91.5609</td>\n",
       "      <td>92.4639</td>\n",
       "      <td>92.807</td>\n",
       "      <td>92.664</td>\n",
       "    </tr>\n",
       "    <tr>\n",
       "      <th>review_scores_accuracy</th>\n",
       "      <td>9.48913</td>\n",
       "      <td>9.35371</td>\n",
       "      <td>9.41346</td>\n",
       "      <td>9.52281</td>\n",
       "      <td>9.54878</td>\n",
       "    </tr>\n",
       "    <tr>\n",
       "      <th>review_scores_cleanliness</th>\n",
       "      <td>9.40217</td>\n",
       "      <td>9.26201</td>\n",
       "      <td>9.42067</td>\n",
       "      <td>9.43158</td>\n",
       "      <td>9.43902</td>\n",
       "    </tr>\n",
       "    <tr>\n",
       "      <th>review_scores_checkin</th>\n",
       "      <td>9.57065</td>\n",
       "      <td>9.5917</td>\n",
       "      <td>9.60817</td>\n",
       "      <td>9.71228</td>\n",
       "      <td>9.68293</td>\n",
       "    </tr>\n",
       "    <tr>\n",
       "      <th>review_scores_communication</th>\n",
       "      <td>9.65761</td>\n",
       "      <td>9.56987</td>\n",
       "      <td>9.52404</td>\n",
       "      <td>9.81053</td>\n",
       "      <td>9.71951</td>\n",
       "    </tr>\n",
       "    <tr>\n",
       "      <th>review_scores_location</th>\n",
       "      <td>9.47283</td>\n",
       "      <td>9.63158</td>\n",
       "      <td>9.67548</td>\n",
       "      <td>9.47018</td>\n",
       "      <td>9.5</td>\n",
       "    </tr>\n",
       "    <tr>\n",
       "      <th>review_scores_value</th>\n",
       "      <td>9.15217</td>\n",
       "      <td>9.06987</td>\n",
       "      <td>9.1851</td>\n",
       "      <td>9.21754</td>\n",
       "      <td>9.24797</td>\n",
       "    </tr>\n",
       "  </tbody>\n",
       "</table>\n",
       "</div>"
      ],
      "text/plain": [
       "                            cluster0 cluster1 cluster2 cluster3 cluster4\n",
       "review_scores_rating         92.3152  91.5609  92.4639   92.807   92.664\n",
       "review_scores_accuracy       9.48913  9.35371  9.41346  9.52281  9.54878\n",
       "review_scores_cleanliness    9.40217  9.26201  9.42067  9.43158  9.43902\n",
       "review_scores_checkin        9.57065   9.5917  9.60817  9.71228  9.68293\n",
       "review_scores_communication  9.65761  9.56987  9.52404  9.81053  9.71951\n",
       "review_scores_location       9.47283  9.63158  9.67548  9.47018      9.5\n",
       "review_scores_value          9.15217  9.06987   9.1851  9.21754  9.24797"
      ]
     },
     "execution_count": 25,
     "metadata": {},
     "output_type": "execute_result"
    }
   ],
   "source": [
    "ratings_per_cluster=pd.DataFrame(columns=['cluster0','cluster1','cluster2','cluster3','cluster4'])\n",
    "\n",
    "for i in range(0,clusters):\n",
    "    for j in ratings:\n",
    "        temp=abb_original.loc[pcaCompDf['labels']==i][j].mean()\n",
    "        ratings_per_cluster.at[j,\"cluster\"+str(i)]=temp\n",
    "ratings_per_cluster"
   ]
  },
  {
   "cell_type": "code",
   "execution_count": 26,
   "metadata": {
    "collapsed": false,
    "scrolled": true
   },
   "outputs": [
    {
     "name": "stdout",
     "output_type": "stream",
     "text": [
      "247.03365384615384\n",
      "198.27080181543116\n",
      "251.8556701030928\n",
      "221.71559633027522\n",
      "193.2967032967033\n"
     ]
    }
   ],
   "source": [
    "for i in range(0,clusters):\n",
    "    print(abb_original.loc[pcaCompDf['labels']==i]['price'].mean())"
   ]
  },
  {
   "cell_type": "code",
   "execution_count": 98,
   "metadata": {
    "collapsed": false
   },
   "outputs": [
    {
     "name": "stdout",
     "output_type": "stream",
     "text": [
      "9.326530612244898\n",
      "9.627027027027028\n",
      "9.802547770700636\n",
      "9.091954022988507\n",
      "9.702194357366771\n"
     ]
    }
   ],
   "source": [
    "for i in range(0,clusters):\n",
    "    print(abb_original.loc[pcaCompDf['labels']==i]['review_scores_communication'].mean())"
   ]
  },
  {
   "cell_type": "code",
   "execution_count": 99,
   "metadata": {
    "collapsed": false
   },
   "outputs": [
    {
     "name": "stdout",
     "output_type": "stream",
     "text": [
      "9.581632653061224\n",
      "9.533875338753388\n",
      "9.614035087719298\n",
      "9.574712643678161\n",
      "9.545454545454545\n"
     ]
    }
   ],
   "source": [
    "for i in range(0,clusters):\n",
    "    print(abb_original.loc[pcaCompDf['labels']==i]['review_scores_location'].mean())"
   ]
  },
  {
   "cell_type": "code",
   "execution_count": 100,
   "metadata": {
    "collapsed": false
   },
   "outputs": [
    {
     "name": "stdout",
     "output_type": "stream",
     "text": [
      "9.285714285714286\n",
      "9.408108108108108\n",
      "9.621019108280255\n",
      "8.931034482758621\n",
      "9.473354231974922\n"
     ]
    }
   ],
   "source": [
    "for i in range(0,clusters):\n",
    "    print(abb_original.loc[pcaCompDf['labels']==i]['review_scores_accuracy'].mean())"
   ]
  },
  {
   "cell_type": "code",
   "execution_count": 101,
   "metadata": {
    "collapsed": false
   },
   "outputs": [
    {
     "name": "stdout",
     "output_type": "stream",
     "text": [
      "9.224489795918368\n",
      "9.64054054054054\n",
      "9.76751592356688\n",
      "9.149425287356323\n",
      "9.730407523510971\n"
     ]
    }
   ],
   "source": [
    "for i in range(0,clusters):\n",
    "    print(abb_original.loc[pcaCompDf['labels']==i]['review_scores_checkin'].mean())"
   ]
  },
  {
   "cell_type": "code",
   "execution_count": 102,
   "metadata": {
    "collapsed": false
   },
   "outputs": [
    {
     "name": "stdout",
     "output_type": "stream",
     "text": [
      "91.08163265306122\n",
      "91.78918918918919\n",
      "93.89348171701113\n",
      "88.47428571428571\n",
      "92.115625\n"
     ]
    }
   ],
   "source": [
    "for i in range(0,clusters):\n",
    "    print(abb_original.loc[pcaCompDf['labels']==i]['review_scores_rating'].mean())"
   ]
  },
  {
   "cell_type": "code",
   "execution_count": 36,
   "metadata": {
    "collapsed": false
   },
   "outputs": [
    {
     "name": "stdout",
     "output_type": "stream",
     "text": [
      "(279, 26)\n",
      "(436, 26)\n",
      "(399, 26)\n",
      "(814, 26)\n",
      "(131, 26)\n"
     ]
    }
   ],
   "source": [
    "for i in range(0,clusters):\n",
    "    print(pcaCompDf.loc[pcaCompDf['labels']==i].shape)"
   ]
  },
  {
   "cell_type": "code",
   "execution_count": 109,
   "metadata": {
    "collapsed": false
   },
   "outputs": [
    {
     "name": "stderr",
     "output_type": "stream",
     "text": [
      "/home/schanx/anaconda3/lib/python3.5/site-packages/geopandas/plotting.py:389: FutureWarning: 'axes' is deprecated, please use 'ax' instead (for consistency with pandas)\n",
      "  \"(for consistency with pandas)\", FutureWarning)\n"
     ]
    },
    {
     "data": {
      "image/png": "[encoded data removed]",
      "text/plain": [
       "<Figure size 360x360 with 1 Axes>"
      ]
     },
     "metadata": {},
     "output_type": "display_data"
    }
   ],
   "source": [
    "pcaCompDf['geometry']=abb['geometry']\n",
    "pcaCompDf['latitude']=abb['latitude']\n",
    "pcaCompDf['longitude']=abb['longitude']\n",
    "# Setup figure and ax\n",
    "f, ax = plt.subplots(1, figsize=(5, 5))\n",
    "# Plot unique values choropleth including a legend and with no boundary lines\n",
    "pcaCompDf.plot(column='labels', categorical=True, legend=True, linewidth=0, axes=ax)\n",
    "# Remove axis\n",
    "ax.set_axis_off()\n",
    "# Keep axes proportionate\n",
    "plt.axis('equal')\n",
    "# Add title\n",
    "plt.title('AirBnb Geodemographic PCA with GMM Clustering for Boston')\n",
    "# Display the map\n",
    "plt.show()"
   ]
  },
  {
   "cell_type": "code",
   "execution_count": 37,
   "metadata": {
    "collapsed": false
   },
   "outputs": [
    {
     "data": {
      "text/plain": [
       "array([0.14677773, 0.25073377, 0.30920453, 0.35440892, 0.39698282,\n",
       "       0.43495212, 0.47016138, 0.50338781, 0.53011736, 0.55539376,\n",
       "       0.57915566, 0.60240466, 0.62296452, 0.64193789, 0.66047742,\n",
       "       0.67872694, 0.69657729, 0.71311681, 0.72877082, 0.74359632,\n",
       "       0.75810433, 0.77089142, 0.78342663, 0.79554504, 0.80708914])"
      ]
     },
     "execution_count": 37,
     "metadata": {},
     "output_type": "execute_result"
    }
   ],
   "source": [
    "pca.explained_variance_ratio_.cumsum()"
   ]
  },
  {
   "cell_type": "code",
   "execution_count": null,
   "metadata": {
    "collapsed": false
   },
   "outputs": [],
   "source": [
    "pca.singular_values_"
   ]
  },
  {
   "cell_type": "code",
   "execution_count": 61,
   "metadata": {
    "collapsed": false
   },
   "outputs": [],
   "source": [
    "pca_features=pd.DataFrame(pca.components_,columns=abb[contf].columns,index=cols)"
   ]
  },
  {
   "cell_type": "code",
   "execution_count": null,
   "metadata": {
    "collapsed": false
   },
   "outputs": [],
   "source": []
  },
  {
   "cell_type": "code",
   "execution_count": 62,
   "metadata": {
    "collapsed": false
   },
   "outputs": [
    {
     "data": {
      "text/plain": [
       "principal comp0        extra_people\n",
       "principal comp1            bedrooms\n",
       "principal comp2    calendar_updated\n",
       "principal comp3    security_deposit\n",
       "principal comp4      minimum_nights\n",
       "dtype: object"
      ]
     },
     "execution_count": 62,
     "metadata": {},
     "output_type": "execute_result"
    }
   ],
   "source": [
    "pca_features.apply(np.argmax ,axis=1)"
   ]
  },
  {
   "cell_type": "code",
   "execution_count": null,
   "metadata": {
    "collapsed": true
   },
   "outputs": [],
   "source": [
    "pca_features.to_csv(\"pca_features_gmm.csv\",sep=\",\")"
   ]
  },
  {
   "cell_type": "code",
   "execution_count": 93,
   "metadata": {
    "collapsed": false
   },
   "outputs": [
    {
     "data": {
      "text/html": [
       "<div>\n",
       "<table border=\"1\" class=\"dataframe\">\n",
       "  <thead>\n",
       "    <tr style=\"text-align: right;\">\n",
       "      <th></th>\n",
       "      <th>principal comp0</th>\n",
       "      <th>principal comp1</th>\n",
       "      <th>principal comp2</th>\n",
       "      <th>principal comp3</th>\n",
       "      <th>principal comp4</th>\n",
       "    </tr>\n",
       "  </thead>\n",
       "  <tbody>\n",
       "    <tr>\n",
       "      <th>security_deposit</th>\n",
       "      <td>0.015437</td>\n",
       "      <td>0.169503</td>\n",
       "      <td>0.045780</td>\n",
       "      <td>0.717117</td>\n",
       "      <td>0.649429</td>\n",
       "    </tr>\n",
       "    <tr>\n",
       "      <th>minimum_nights</th>\n",
       "      <td>0.060767</td>\n",
       "      <td>0.075207</td>\n",
       "      <td>0.069995</td>\n",
       "      <td>0.435805</td>\n",
       "      <td>0.533398</td>\n",
       "    </tr>\n",
       "    <tr>\n",
       "      <th>cleaning_fee</th>\n",
       "      <td>0.039598</td>\n",
       "      <td>0.212464</td>\n",
       "      <td>0.082898</td>\n",
       "      <td>0.428091</td>\n",
       "      <td>0.386847</td>\n",
       "    </tr>\n",
       "  </tbody>\n",
       "</table>\n",
       "</div>"
      ],
      "text/plain": [
       "                  principal comp0  principal comp1  principal comp2  \\\n",
       "security_deposit         0.015437         0.169503         0.045780   \n",
       "minimum_nights           0.060767         0.075207         0.069995   \n",
       "cleaning_fee             0.039598         0.212464         0.082898   \n",
       "\n",
       "                  principal comp3  principal comp4  \n",
       "security_deposit         0.717117         0.649429  \n",
       "minimum_nights           0.435805         0.533398  \n",
       "cleaning_fee             0.428091         0.386847  "
      ]
     },
     "execution_count": 93,
     "metadata": {},
     "output_type": "execute_result"
    }
   ],
   "source": [
    "pca_features.abs().T.nlargest(3,'principal comp4')"
   ]
  },
  {
   "cell_type": "code",
   "execution_count": null,
   "metadata": {
    "collapsed": true
   },
   "outputs": [],
   "source": [
    "# declarations\n",
    "from scipy.spatial import distance\n",
    "listings_per_cluster=dict()\n",
    "cluster_points_dists=dict()"
   ]
  },
  {
   "cell_type": "code",
   "execution_count": null,
   "metadata": {
    "collapsed": false
   },
   "outputs": [],
   "source": [
    "# Finding the feature importance\n",
    "# Find the representative point in each cluster\n",
    "\n",
    "\n",
    "for i in range(0,clusters):\n",
    "    listings_per_cluster[i]=pcaCompDf.loc[pcaCompDf['labels']==i][[0,1,2,3]]\n",
    "centroids = list(pca_gmm.means_[0])\n",
    "\n",
    "# for i in range(0,len(listings_per_cluster)):\n",
    "#    cluster_points_dists[i]=listings_per_cluster[i].apply(distance.euclidean(centroids, [0,1,2]))\n",
    "#dist = numpy.linalg.norm(a-b)\n",
    "#pcaCompDf.loc[pcaCompDf['labels']==0]\n",
    "for i in range(0,5):\n",
    "    for j in listings_per_cluster[i].index.values:\n",
    "        if i in cluster_points_dists:\n",
    "            cluster_points_dists[i].append(distance.euclidean(list(pca_gmm.means_[i]), list(listings_per_cluster[i].loc[j])))\n",
    "        else:\n",
    "            cluster_points_dists[i]=[distance.euclidean(list(pca_gmm.means_[i]), list(listings_per_cluster[i].loc[j]))]"
   ]
  },
  {
   "cell_type": "code",
   "execution_count": null,
   "metadata": {
    "collapsed": true
   },
   "outputs": [],
   "source": []
  },
  {
   "cell_type": "code",
   "execution_count": null,
   "metadata": {
    "collapsed": false
   },
   "outputs": [],
   "source": [
    "representative_points=dict()\n",
    "\n",
    "for i in range(0,len(cluster_points_dists)):\n",
    "    representative_points[i]=abb_original[\"review_scores_rating\"].loc[np.argmax(cluster_points_dists[i])]\n",
    "representative_points[0]"
   ]
  },
  {
   "cell_type": "code",
   "execution_count": 113,
   "metadata": {
    "collapsed": false,
    "scrolled": true
   },
   "outputs": [],
   "source": [
    "#for i in range(0,clusters):\n",
    "#    listings_per_cluster[i]=pcaCompDf.loc[pcaCompDf['labels']==i][[0,1,2,3]]\n",
    "cluster_based_points=dict()\n",
    "#set_top_5_features_pca = [\"availability_30\",\"availability_60\",\"availability_90\",\"availability_365\",\"calendar_updated\",\"bathrooms\",\"extra_people\",\"bedrooms\",\"guests_included\",\"accommodates\",\"beds\"]\n",
    "set_top_5_features_pca = [\"cleaning_fee\",\"minimum_nights\",\"extra_people\",\"security_deposit\",\"calendar_updated\",\"bathrooms\",\"bedrooms\",\"guests_included\",\"accommodates\",\"beds\"]\n",
    "\n",
    "#set_top_5_features_pca = [\"Hair Dryer\",\"Hangers\", \"Iron\",\"host_response_time_within a few hours\",\"Gym\",\"Elevator in Building\",\"availability_90\",\"Fire Extinguisher\",\"kba\",\"jumio\"]\n",
    "#set_top_5_features_pca = [\"Hair Dryer\",\"Hangers\", \"Iron\",\"host_response_time_within a few hours\",\"Gym\",\"Elevator in Building\",\"Internet\",\"Fire Extinguisher\",\"kba\",\"jumio\"]\n",
    "\n",
    "#set_top_5_features_pca =[\"extra_people\",\"bedrooms\",\"accommodates\",\"security_deposit\",\"cleaning_fee\",\"minimum_nights\"]\n",
    "#set_top_5_features_pca = [\"Hair Dryer\",\"Hangers\", \"Iron\",\"host_response_time_within a few hours\",\"Gym\",\"Elevator in Building\",\"Fire Extinguisher\",\"kba\",\"jumio\"]\n",
    "\n",
    "for i in range(0,clusters):\n",
    "    cluster_based_points[i]=abb.loc[pcaCompDf['labels']==i][set_top_5_features_pca]\n",
    "\n",
    "cluster_based_avg_per_f=dict()\n",
    "\n",
    "for i in range(0,clusters):\n",
    "    for j in set_top_5_features_pca:\n",
    "        if i in cluster_based_avg_per_f:\n",
    "            cluster_based_avg_per_f[i].append(cluster_based_points[i][j].mean())\n",
    "        else:\n",
    "            cluster_based_avg_per_f[i]=[cluster_based_points[i][j].mean()]"
   ]
  },
  {
   "cell_type": "code",
   "execution_count": null,
   "metadata": {
    "collapsed": true
   },
   "outputs": [],
   "source": []
  },
  {
   "cell_type": "code",
   "execution_count": 114,
   "metadata": {
    "collapsed": false
   },
   "outputs": [
    {
     "data": {
      "image/png": "[encoded data removed]",
      "text/plain": [
       "<Figure size 2160x720 with 1 Axes>"
      ]
     },
     "metadata": {},
     "output_type": "display_data"
    }
   ],
   "source": [
    "import numpy as np\n",
    "import matplotlib.pyplot as plt\n",
    "\n",
    "N = 3\n",
    "ind = np.arange(len(set_top_5_features_pca))  # the x locations for the groups\n",
    "width = 0.16       # the width of the bars\n",
    "\n",
    "fig = plt.figure(figsize=(30,10))\n",
    "ax = fig.add_subplot(111)\n",
    "\n",
    "\n",
    "i=10\n",
    "yvals = [i*x for x in cluster_based_avg_per_f[0]]\n",
    "rects1 = ax.bar(ind, yvals, width, color='orange')\n",
    "zvals = [i*x for x in cluster_based_avg_per_f[1]]\n",
    "rects2 = ax.bar(ind+width, zvals, width, color='turquoise')\n",
    "kvals = [i*x for x in cluster_based_avg_per_f[2]]\n",
    "rects3 = ax.bar(ind+width*2, kvals, width, color='green')\n",
    "lvals = [i*x for x in cluster_based_avg_per_f[3]]\n",
    "rects4 = ax.bar(ind+width*3, lvals, width, color='navy')\n",
    "mvals = [i*x for x in cluster_based_avg_per_f[4]]\n",
    "rects5 = ax.bar(ind+width*4, mvals, width, color='red')\n",
    "\n",
    "\n",
    "ax.set_ylabel('Scores')\n",
    "ax.set_xticks(ind+width)\n",
    "ax.set_xticklabels((set_top_5_features_pca))\n",
    "ax.legend( (rects1[0], rects2[0], rects3[0],rects4[0],rects5[0]), ('cluster1', 'cluster2', 'cluster3','cluster4','cluster5') )\n",
    "\n",
    "def autolabel(rects):\n",
    "    for rect in rects:\n",
    "        h = rect.get_height()\n",
    "        ax.text(rect.get_x()+rect.get_width()/2., 1.0*h, '%d'%int(h),\n",
    "                ha='center', va='bottom')\n",
    "\n",
    "autolabel(rects1)\n",
    "autolabel(rects2)\n",
    "autolabel(rects3)\n",
    "autolabel(rects4)\n",
    "autolabel(rects5)\n",
    "\n",
    "plt.show()"
   ]
  },
  {
   "cell_type": "markdown",
   "metadata": {
    "collapsed": false
   },
   "source": [
    "#abb.columns.tolist()"
   ]
  },
  {
   "cell_type": "code",
   "execution_count": null,
   "metadata": {
    "collapsed": false
   },
   "outputs": [],
   "source": [
    "import numpy as np\n",
    "import matplotlib.pyplot as plt\n",
    "\n",
    "N = 3\n",
    "ind = np.arange(N)  # the x locations for the groups\n",
    "width = 0.27       # the width of the bars\n",
    "\n",
    "fig = plt.figure()\n",
    "ax = fig.add_subplot(111)\n",
    "\n",
    "yvals = [1, 2, 2]\n",
    "rects1 = ax.bar(ind, yvals, width, color='r')\n",
    "zvals = [1,2,3]\n",
    "rects2 = ax.bar(ind+width, zvals, width, color='g')\n",
    "kvals = [11,12,13]\n",
    "rects3 = ax.bar(ind+width*2, kvals, width, color='b')\n",
    "\n",
    "ax.set_ylabel('Scores')\n",
    "ax.set_xticks(ind+width)\n",
    "ax.set_xticklabels( ('2011-Jan-4', '2011-Jan-5', '2011-Jan-6') )\n",
    "ax.legend( (rects1[0], rects2[0], rects3[0]), ('y', 'z', 'k') )\n",
    "\n",
    "def autolabel(rects):\n",
    "    for rect in rects:\n",
    "        h = rect.get_height()\n",
    "        ax.text(rect.get_x()+rect.get_width()/2., 1.05*h, '%d'%int(h),\n",
    "                ha='center', va='bottom')\n",
    "\n",
    "autolabel(rects1)\n",
    "autolabel(rects2)\n",
    "autolabel(rects3)\n",
    "\n",
    "plt.show()"
   ]
  },
  {
   "cell_type": "code",
   "execution_count": null,
   "metadata": {
    "collapsed": false
   },
   "outputs": [],
   "source": [
    "import numpy as np\n",
    "import itertools\n",
    "\n",
    "from scipy import linalg\n",
    "import matplotlib.pyplot as plt\n",
    "import matplotlib as mpl\n",
    "\n",
    "from sklearn import mixture\n",
    "\n",
    "print(__doc__)\n",
    "\n",
    "\n",
    "modelG=pd.DataFrame(abb[contf])\n",
    "# Number of samples per component\n",
    "n_samples = 500\n",
    "\n",
    "# Generate random sample, two components\n",
    "np.random.seed(0)\n",
    "C = np.array([[0., -0.1], [1.7, .4]])\n",
    "X = np.r_[np.dot(np.random.randn(n_samples, 2), C),\n",
    "          .7 * np.random.randn(n_samples, 2) + np.array([-6, 3])]\n",
    "\n",
    "lowest_bic = np.infty\n",
    "bic = []\n",
    "n_components_range = range(1, 10)\n",
    "cv_types = ['spherical', 'tied', 'diag', 'full']\n",
    "for cv_type in cv_types:\n",
    "    for n_components in n_components_range:\n",
    "        # Fit a Gaussian mixture with EM\n",
    "        gmm = mixture.GaussianMixture(n_components=n_components,\n",
    "                                      covariance_type=cv_type)\n",
    "        gmm.fit(modelG)\n",
    "        bic.append(gmm.bic(modelG))\n",
    "        if bic[-1] < lowest_bic:\n",
    "            lowest_bic = bic[-1]\n",
    "            best_gmm = gmm\n",
    "\n",
    "bic = np.array(bic)\n",
    "color_iter = itertools.cycle(['navy', 'turquoise', 'cornflowerblue',\n",
    "                              'darkorange'])\n",
    "clf = best_gmm\n",
    "bars = []\n",
    "# Plot the BIC scores\n",
    "plt.figure(figsize=(8, 6))\n",
    "spl = plt.subplot(2, 1, 1)\n",
    "for i, (cv_type, color) in enumerate(zip(cv_types, color_iter)):\n",
    "    xpos = np.array(n_components_range) + .2 * (i - 2)\n",
    "    bars.append(plt.bar(xpos, bic[i * len(n_components_range):\n",
    "                                  (i + 1) * len(n_components_range)],\n",
    "                        width=.2, color=color))\n",
    "plt.xticks(n_components_range)\n",
    "plt.ylim([bic.min() * 1.01 - .01 * bic.max(), bic.max()])\n",
    "plt.title('BIC score per model')\n",
    "xpos = np.mod(bic.argmin(), len(n_components_range)) + .65 +\\\n",
    "    .2 * np.floor(bic.argmin() / len(n_components_range))\n",
    "plt.text(xpos, bic.min() * 0.97 + .03 * bic.max(), '*', fontsize=14)\n",
    "spl.set_xlabel('Number of components')\n",
    "spl.legend([b[0] for b in bars], cv_types)\n",
    "\n",
    "# Plot the winner\n",
    "splot = plt.subplot(2, 1, 2)\n",
    "Y_ = clf.predict(modelG)\n",
    "for i, (mean, cov, color) in enumerate(zip(clf.means_, clf.covariances_,\n",
    "                                           color_iter)):\n",
    "    v, w = linalg.eigh(cov)\n",
    "    if not np.any(Y_ == i):\n",
    "        continue\n",
    "    plt.scatter(modelG[Y_ == i, 0], modelG[Y_ == i, 1], .8, color=color)\n",
    "\n",
    "    # Plot an ellipse to show the Gaussian component\n",
    "    angle = np.arctan2(w[0][1], w[0][0])\n",
    "    angle = 180. * angle / np.pi  # convert to degrees\n",
    "    v = 2. * np.sqrt(2.) * np.sqrt(v)\n",
    "    ell = mpl.patches.Ellipse(mean, v[0], v[1], 180. + angle, color=color)\n",
    "    ell.set_clip_box(splot.bbox)\n",
    "    ell.set_alpha(.5)\n",
    "    splot.add_artist(ell)\n",
    "\n",
    "plt.xticks(())\n",
    "plt.yticks(())\n",
    "plt.title('Selected GMM: full model, 2 components')\n",
    "plt.subplots_adjust(hspace=.35, bottom=.02)\n",
    "plt.show()"
   ]
  },
  {
   "cell_type": "code",
   "execution_count": null,
   "metadata": {
    "collapsed": false
   },
   "outputs": [],
   "source": [
    "# Create figure and axes (this time it's 9, arranged 3 by 3)\n",
    "f, axs = plt.subplots(nrows=3, ncols=3, figsize=(12, 12))\n",
    "# Make the axes accessible with single indexing\n",
    "axs = axs.flatten()\n",
    "# Start the loop over all the variables of interest\n",
    "for i, col in enumerate(ratings):\n",
    "    # select the axis where the map will go\n",
    "    ax = axs[i]\n",
    "    # Plot the map\n",
    "    abb.plot(column=col, axes=ax, scheme='Quantiles', linewidth=0, colormap='Blues')\n",
    "    # Remove axis clutter\n",
    "    ax.set_axis_off()\n",
    "    # Set the axis title to the name of variable being plotted\n",
    "    ax.set_title(col)\n",
    "# Display the figure\n",
    "plt.show()"
   ]
  },
  {
   "cell_type": "code",
   "execution_count": null,
   "metadata": {
    "collapsed": true
   },
   "outputs": [],
   "source": []
  }
 ],
 "metadata": {
  "anaconda-cloud": {},
  "kernelspec": {
   "display_name": "Python [conda root]",
   "language": "python",
   "name": "conda-root-py"
  },
  "language_info": {
   "codemirror_mode": {
    "name": "ipython",
    "version": 3
   },
   "file_extension": ".py",
   "mimetype": "text/x-python",
   "name": "python",
   "nbconvert_exporter": "python",
   "pygments_lexer": "ipython3",
   "version": "3.5.5"
  }
 },
 "nbformat": 4,
 "nbformat_minor": 1
}
